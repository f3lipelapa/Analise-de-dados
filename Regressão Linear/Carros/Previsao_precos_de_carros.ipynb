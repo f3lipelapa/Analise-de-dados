{
 "cells": [
  {
   "cell_type": "markdown",
   "id": "45052c14",
   "metadata": {},
   "source": [
    "## Regressão linear - preços de carros\n",
    "***"
   ]
  },
  {
   "cell_type": "markdown",
   "id": "f3fdb6d4",
   "metadata": {},
   "source": [
    "**Fonte**: https://www.kaggle.com/hellbuoy/car-price-prediction?select=CarPrice_Assignment.csv  \n",
    "\n",
    "O objetivo é criar um modelo de machine learning utilizando a técnica de **Regressão Linear**, que faça previsões sobre os preços de carros a partir das características apresentadas no dataset."
   ]
  },
  {
   "cell_type": "code",
   "execution_count": 137,
   "id": "e64ec43c",
   "metadata": {},
   "outputs": [],
   "source": [
    "import pandas as pd"
   ]
  },
  {
   "cell_type": "code",
   "execution_count": 138,
   "id": "0944b2a3",
   "metadata": {},
   "outputs": [
    {
     "data": {
      "text/html": [
       "<div>\n",
       "<style scoped>\n",
       "    .dataframe tbody tr th:only-of-type {\n",
       "        vertical-align: middle;\n",
       "    }\n",
       "\n",
       "    .dataframe tbody tr th {\n",
       "        vertical-align: top;\n",
       "    }\n",
       "\n",
       "    .dataframe thead th {\n",
       "        text-align: right;\n",
       "    }\n",
       "</style>\n",
       "<table border=\"1\" class=\"dataframe\">\n",
       "  <thead>\n",
       "    <tr style=\"text-align: right;\">\n",
       "      <th></th>\n",
       "      <th>car_ID</th>\n",
       "      <th>symboling</th>\n",
       "      <th>CarName</th>\n",
       "      <th>fueltype</th>\n",
       "      <th>aspiration</th>\n",
       "      <th>doornumber</th>\n",
       "      <th>carbody</th>\n",
       "      <th>drivewheel</th>\n",
       "      <th>enginelocation</th>\n",
       "      <th>wheelbase</th>\n",
       "      <th>...</th>\n",
       "      <th>enginesize</th>\n",
       "      <th>fuelsystem</th>\n",
       "      <th>boreratio</th>\n",
       "      <th>stroke</th>\n",
       "      <th>compressionratio</th>\n",
       "      <th>horsepower</th>\n",
       "      <th>peakrpm</th>\n",
       "      <th>citympg</th>\n",
       "      <th>highwaympg</th>\n",
       "      <th>price</th>\n",
       "    </tr>\n",
       "  </thead>\n",
       "  <tbody>\n",
       "    <tr>\n",
       "      <th>0</th>\n",
       "      <td>1</td>\n",
       "      <td>3</td>\n",
       "      <td>alfa-romero giulia</td>\n",
       "      <td>gas</td>\n",
       "      <td>std</td>\n",
       "      <td>two</td>\n",
       "      <td>convertible</td>\n",
       "      <td>rwd</td>\n",
       "      <td>front</td>\n",
       "      <td>88.6</td>\n",
       "      <td>...</td>\n",
       "      <td>130</td>\n",
       "      <td>mpfi</td>\n",
       "      <td>3.47</td>\n",
       "      <td>2.68</td>\n",
       "      <td>9.0</td>\n",
       "      <td>111</td>\n",
       "      <td>5000</td>\n",
       "      <td>21</td>\n",
       "      <td>27</td>\n",
       "      <td>13495.0</td>\n",
       "    </tr>\n",
       "    <tr>\n",
       "      <th>1</th>\n",
       "      <td>2</td>\n",
       "      <td>3</td>\n",
       "      <td>alfa-romero stelvio</td>\n",
       "      <td>gas</td>\n",
       "      <td>std</td>\n",
       "      <td>two</td>\n",
       "      <td>convertible</td>\n",
       "      <td>rwd</td>\n",
       "      <td>front</td>\n",
       "      <td>88.6</td>\n",
       "      <td>...</td>\n",
       "      <td>130</td>\n",
       "      <td>mpfi</td>\n",
       "      <td>3.47</td>\n",
       "      <td>2.68</td>\n",
       "      <td>9.0</td>\n",
       "      <td>111</td>\n",
       "      <td>5000</td>\n",
       "      <td>21</td>\n",
       "      <td>27</td>\n",
       "      <td>16500.0</td>\n",
       "    </tr>\n",
       "    <tr>\n",
       "      <th>2</th>\n",
       "      <td>3</td>\n",
       "      <td>1</td>\n",
       "      <td>alfa-romero Quadrifoglio</td>\n",
       "      <td>gas</td>\n",
       "      <td>std</td>\n",
       "      <td>two</td>\n",
       "      <td>hatchback</td>\n",
       "      <td>rwd</td>\n",
       "      <td>front</td>\n",
       "      <td>94.5</td>\n",
       "      <td>...</td>\n",
       "      <td>152</td>\n",
       "      <td>mpfi</td>\n",
       "      <td>2.68</td>\n",
       "      <td>3.47</td>\n",
       "      <td>9.0</td>\n",
       "      <td>154</td>\n",
       "      <td>5000</td>\n",
       "      <td>19</td>\n",
       "      <td>26</td>\n",
       "      <td>16500.0</td>\n",
       "    </tr>\n",
       "    <tr>\n",
       "      <th>3</th>\n",
       "      <td>4</td>\n",
       "      <td>2</td>\n",
       "      <td>audi 100 ls</td>\n",
       "      <td>gas</td>\n",
       "      <td>std</td>\n",
       "      <td>four</td>\n",
       "      <td>sedan</td>\n",
       "      <td>fwd</td>\n",
       "      <td>front</td>\n",
       "      <td>99.8</td>\n",
       "      <td>...</td>\n",
       "      <td>109</td>\n",
       "      <td>mpfi</td>\n",
       "      <td>3.19</td>\n",
       "      <td>3.40</td>\n",
       "      <td>10.0</td>\n",
       "      <td>102</td>\n",
       "      <td>5500</td>\n",
       "      <td>24</td>\n",
       "      <td>30</td>\n",
       "      <td>13950.0</td>\n",
       "    </tr>\n",
       "    <tr>\n",
       "      <th>4</th>\n",
       "      <td>5</td>\n",
       "      <td>2</td>\n",
       "      <td>audi 100ls</td>\n",
       "      <td>gas</td>\n",
       "      <td>std</td>\n",
       "      <td>four</td>\n",
       "      <td>sedan</td>\n",
       "      <td>4wd</td>\n",
       "      <td>front</td>\n",
       "      <td>99.4</td>\n",
       "      <td>...</td>\n",
       "      <td>136</td>\n",
       "      <td>mpfi</td>\n",
       "      <td>3.19</td>\n",
       "      <td>3.40</td>\n",
       "      <td>8.0</td>\n",
       "      <td>115</td>\n",
       "      <td>5500</td>\n",
       "      <td>18</td>\n",
       "      <td>22</td>\n",
       "      <td>17450.0</td>\n",
       "    </tr>\n",
       "  </tbody>\n",
       "</table>\n",
       "<p>5 rows × 26 columns</p>\n",
       "</div>"
      ],
      "text/plain": [
       "   car_ID  symboling                   CarName fueltype aspiration doornumber  \\\n",
       "0       1          3        alfa-romero giulia      gas        std        two   \n",
       "1       2          3       alfa-romero stelvio      gas        std        two   \n",
       "2       3          1  alfa-romero Quadrifoglio      gas        std        two   \n",
       "3       4          2               audi 100 ls      gas        std       four   \n",
       "4       5          2                audi 100ls      gas        std       four   \n",
       "\n",
       "       carbody drivewheel enginelocation  wheelbase  ...  enginesize  \\\n",
       "0  convertible        rwd          front       88.6  ...         130   \n",
       "1  convertible        rwd          front       88.6  ...         130   \n",
       "2    hatchback        rwd          front       94.5  ...         152   \n",
       "3        sedan        fwd          front       99.8  ...         109   \n",
       "4        sedan        4wd          front       99.4  ...         136   \n",
       "\n",
       "   fuelsystem  boreratio  stroke compressionratio horsepower  peakrpm citympg  \\\n",
       "0        mpfi       3.47    2.68              9.0        111     5000      21   \n",
       "1        mpfi       3.47    2.68              9.0        111     5000      21   \n",
       "2        mpfi       2.68    3.47              9.0        154     5000      19   \n",
       "3        mpfi       3.19    3.40             10.0        102     5500      24   \n",
       "4        mpfi       3.19    3.40              8.0        115     5500      18   \n",
       "\n",
       "   highwaympg    price  \n",
       "0          27  13495.0  \n",
       "1          27  16500.0  \n",
       "2          26  16500.0  \n",
       "3          30  13950.0  \n",
       "4          22  17450.0  \n",
       "\n",
       "[5 rows x 26 columns]"
      ]
     },
     "execution_count": 138,
     "metadata": {},
     "output_type": "execute_result"
    }
   ],
   "source": [
    "dados = pd.read_csv('CarPrice_Assignment.csv')\n",
    "dados.head()"
   ]
  },
  {
   "cell_type": "markdown",
   "id": "912f926a",
   "metadata": {},
   "source": [
    "As variáveis fueltype (tipo de combustível) e doornumber (número de portas) podem ter algum efeito em nosso modelo. Então, vou trocar a representação dos dados nessas variáveis."
   ]
  },
  {
   "cell_type": "code",
   "execution_count": 139,
   "id": "e5952590",
   "metadata": {},
   "outputs": [
    {
     "data": {
      "text/plain": [
       "array(['gas', 'diesel'], dtype=object)"
      ]
     },
     "execution_count": 139,
     "metadata": {},
     "output_type": "execute_result"
    }
   ],
   "source": [
    "dados.fueltype.unique()"
   ]
  },
  {
   "cell_type": "code",
   "execution_count": 140,
   "id": "eafbabfc",
   "metadata": {},
   "outputs": [],
   "source": [
    "dados.fueltype = dados.fueltype.map({'gas' : 0, 'diesel': 1})"
   ]
  },
  {
   "cell_type": "markdown",
   "id": "2c6db49c",
   "metadata": {},
   "source": [
    "\n",
    "|fueltype||ID|\n",
    "|---||---|\n",
    "|gas||0|\n",
    "|diesel||1|"
   ]
  },
  {
   "cell_type": "code",
   "execution_count": 141,
   "id": "a73bea51",
   "metadata": {},
   "outputs": [
    {
     "data": {
      "text/plain": [
       "array(['two', 'four'], dtype=object)"
      ]
     },
     "execution_count": 141,
     "metadata": {},
     "output_type": "execute_result"
    }
   ],
   "source": [
    "dados.doornumber.unique()"
   ]
  },
  {
   "cell_type": "code",
   "execution_count": 142,
   "id": "ac13b65d",
   "metadata": {},
   "outputs": [],
   "source": [
    "dados.doornumber = dados.doornumber.map({'two' : 0, 'four': 1})"
   ]
  },
  {
   "cell_type": "markdown",
   "id": "31ae9773",
   "metadata": {},
   "source": [
    "|doornumber||ID|\n",
    "|---||---|\n",
    "|two||0|\n",
    "|fuor||1|"
   ]
  },
  {
   "cell_type": "markdown",
   "id": "c58c1bf9",
   "metadata": {},
   "source": [
    "#### Estatísticas descritivas e tabela de correlação"
   ]
  },
  {
   "cell_type": "code",
   "execution_count": 143,
   "id": "3ba0a436",
   "metadata": {},
   "outputs": [
    {
     "data": {
      "text/html": [
       "<div>\n",
       "<style scoped>\n",
       "    .dataframe tbody tr th:only-of-type {\n",
       "        vertical-align: middle;\n",
       "    }\n",
       "\n",
       "    .dataframe tbody tr th {\n",
       "        vertical-align: top;\n",
       "    }\n",
       "\n",
       "    .dataframe thead th {\n",
       "        text-align: right;\n",
       "    }\n",
       "</style>\n",
       "<table border=\"1\" class=\"dataframe\">\n",
       "  <thead>\n",
       "    <tr style=\"text-align: right;\">\n",
       "      <th></th>\n",
       "      <th>car_ID</th>\n",
       "      <th>symboling</th>\n",
       "      <th>fueltype</th>\n",
       "      <th>doornumber</th>\n",
       "      <th>wheelbase</th>\n",
       "      <th>carlength</th>\n",
       "      <th>carwidth</th>\n",
       "      <th>carheight</th>\n",
       "      <th>curbweight</th>\n",
       "      <th>enginesize</th>\n",
       "      <th>boreratio</th>\n",
       "      <th>stroke</th>\n",
       "      <th>compressionratio</th>\n",
       "      <th>horsepower</th>\n",
       "      <th>peakrpm</th>\n",
       "      <th>citympg</th>\n",
       "      <th>highwaympg</th>\n",
       "      <th>price</th>\n",
       "    </tr>\n",
       "  </thead>\n",
       "  <tbody>\n",
       "    <tr>\n",
       "      <th>count</th>\n",
       "      <td>205.000000</td>\n",
       "      <td>205.000000</td>\n",
       "      <td>205.000000</td>\n",
       "      <td>205.000000</td>\n",
       "      <td>205.000000</td>\n",
       "      <td>205.000000</td>\n",
       "      <td>205.000000</td>\n",
       "      <td>205.000000</td>\n",
       "      <td>205.000000</td>\n",
       "      <td>205.000000</td>\n",
       "      <td>205.000000</td>\n",
       "      <td>205.000000</td>\n",
       "      <td>205.000000</td>\n",
       "      <td>205.000000</td>\n",
       "      <td>205.000000</td>\n",
       "      <td>205.000000</td>\n",
       "      <td>205.000000</td>\n",
       "      <td>205.000000</td>\n",
       "    </tr>\n",
       "    <tr>\n",
       "      <th>mean</th>\n",
       "      <td>103.000000</td>\n",
       "      <td>0.834146</td>\n",
       "      <td>0.097561</td>\n",
       "      <td>0.560976</td>\n",
       "      <td>98.756585</td>\n",
       "      <td>174.049268</td>\n",
       "      <td>65.907805</td>\n",
       "      <td>53.724878</td>\n",
       "      <td>2555.565854</td>\n",
       "      <td>126.907317</td>\n",
       "      <td>3.329756</td>\n",
       "      <td>3.255415</td>\n",
       "      <td>10.142537</td>\n",
       "      <td>104.117073</td>\n",
       "      <td>5125.121951</td>\n",
       "      <td>25.219512</td>\n",
       "      <td>30.751220</td>\n",
       "      <td>13276.710571</td>\n",
       "    </tr>\n",
       "    <tr>\n",
       "      <th>std</th>\n",
       "      <td>59.322565</td>\n",
       "      <td>1.245307</td>\n",
       "      <td>0.297446</td>\n",
       "      <td>0.497483</td>\n",
       "      <td>6.021776</td>\n",
       "      <td>12.337289</td>\n",
       "      <td>2.145204</td>\n",
       "      <td>2.443522</td>\n",
       "      <td>520.680204</td>\n",
       "      <td>41.642693</td>\n",
       "      <td>0.270844</td>\n",
       "      <td>0.313597</td>\n",
       "      <td>3.972040</td>\n",
       "      <td>39.544167</td>\n",
       "      <td>476.985643</td>\n",
       "      <td>6.542142</td>\n",
       "      <td>6.886443</td>\n",
       "      <td>7988.852332</td>\n",
       "    </tr>\n",
       "    <tr>\n",
       "      <th>min</th>\n",
       "      <td>1.000000</td>\n",
       "      <td>-2.000000</td>\n",
       "      <td>0.000000</td>\n",
       "      <td>0.000000</td>\n",
       "      <td>86.600000</td>\n",
       "      <td>141.100000</td>\n",
       "      <td>60.300000</td>\n",
       "      <td>47.800000</td>\n",
       "      <td>1488.000000</td>\n",
       "      <td>61.000000</td>\n",
       "      <td>2.540000</td>\n",
       "      <td>2.070000</td>\n",
       "      <td>7.000000</td>\n",
       "      <td>48.000000</td>\n",
       "      <td>4150.000000</td>\n",
       "      <td>13.000000</td>\n",
       "      <td>16.000000</td>\n",
       "      <td>5118.000000</td>\n",
       "    </tr>\n",
       "    <tr>\n",
       "      <th>25%</th>\n",
       "      <td>52.000000</td>\n",
       "      <td>0.000000</td>\n",
       "      <td>0.000000</td>\n",
       "      <td>0.000000</td>\n",
       "      <td>94.500000</td>\n",
       "      <td>166.300000</td>\n",
       "      <td>64.100000</td>\n",
       "      <td>52.000000</td>\n",
       "      <td>2145.000000</td>\n",
       "      <td>97.000000</td>\n",
       "      <td>3.150000</td>\n",
       "      <td>3.110000</td>\n",
       "      <td>8.600000</td>\n",
       "      <td>70.000000</td>\n",
       "      <td>4800.000000</td>\n",
       "      <td>19.000000</td>\n",
       "      <td>25.000000</td>\n",
       "      <td>7788.000000</td>\n",
       "    </tr>\n",
       "    <tr>\n",
       "      <th>50%</th>\n",
       "      <td>103.000000</td>\n",
       "      <td>1.000000</td>\n",
       "      <td>0.000000</td>\n",
       "      <td>1.000000</td>\n",
       "      <td>97.000000</td>\n",
       "      <td>173.200000</td>\n",
       "      <td>65.500000</td>\n",
       "      <td>54.100000</td>\n",
       "      <td>2414.000000</td>\n",
       "      <td>120.000000</td>\n",
       "      <td>3.310000</td>\n",
       "      <td>3.290000</td>\n",
       "      <td>9.000000</td>\n",
       "      <td>95.000000</td>\n",
       "      <td>5200.000000</td>\n",
       "      <td>24.000000</td>\n",
       "      <td>30.000000</td>\n",
       "      <td>10295.000000</td>\n",
       "    </tr>\n",
       "    <tr>\n",
       "      <th>75%</th>\n",
       "      <td>154.000000</td>\n",
       "      <td>2.000000</td>\n",
       "      <td>0.000000</td>\n",
       "      <td>1.000000</td>\n",
       "      <td>102.400000</td>\n",
       "      <td>183.100000</td>\n",
       "      <td>66.900000</td>\n",
       "      <td>55.500000</td>\n",
       "      <td>2935.000000</td>\n",
       "      <td>141.000000</td>\n",
       "      <td>3.580000</td>\n",
       "      <td>3.410000</td>\n",
       "      <td>9.400000</td>\n",
       "      <td>116.000000</td>\n",
       "      <td>5500.000000</td>\n",
       "      <td>30.000000</td>\n",
       "      <td>34.000000</td>\n",
       "      <td>16503.000000</td>\n",
       "    </tr>\n",
       "    <tr>\n",
       "      <th>max</th>\n",
       "      <td>205.000000</td>\n",
       "      <td>3.000000</td>\n",
       "      <td>1.000000</td>\n",
       "      <td>1.000000</td>\n",
       "      <td>120.900000</td>\n",
       "      <td>208.100000</td>\n",
       "      <td>72.300000</td>\n",
       "      <td>59.800000</td>\n",
       "      <td>4066.000000</td>\n",
       "      <td>326.000000</td>\n",
       "      <td>3.940000</td>\n",
       "      <td>4.170000</td>\n",
       "      <td>23.000000</td>\n",
       "      <td>288.000000</td>\n",
       "      <td>6600.000000</td>\n",
       "      <td>49.000000</td>\n",
       "      <td>54.000000</td>\n",
       "      <td>45400.000000</td>\n",
       "    </tr>\n",
       "  </tbody>\n",
       "</table>\n",
       "</div>"
      ],
      "text/plain": [
       "           car_ID   symboling    fueltype  doornumber   wheelbase   carlength  \\\n",
       "count  205.000000  205.000000  205.000000  205.000000  205.000000  205.000000   \n",
       "mean   103.000000    0.834146    0.097561    0.560976   98.756585  174.049268   \n",
       "std     59.322565    1.245307    0.297446    0.497483    6.021776   12.337289   \n",
       "min      1.000000   -2.000000    0.000000    0.000000   86.600000  141.100000   \n",
       "25%     52.000000    0.000000    0.000000    0.000000   94.500000  166.300000   \n",
       "50%    103.000000    1.000000    0.000000    1.000000   97.000000  173.200000   \n",
       "75%    154.000000    2.000000    0.000000    1.000000  102.400000  183.100000   \n",
       "max    205.000000    3.000000    1.000000    1.000000  120.900000  208.100000   \n",
       "\n",
       "         carwidth   carheight   curbweight  enginesize   boreratio  \\\n",
       "count  205.000000  205.000000   205.000000  205.000000  205.000000   \n",
       "mean    65.907805   53.724878  2555.565854  126.907317    3.329756   \n",
       "std      2.145204    2.443522   520.680204   41.642693    0.270844   \n",
       "min     60.300000   47.800000  1488.000000   61.000000    2.540000   \n",
       "25%     64.100000   52.000000  2145.000000   97.000000    3.150000   \n",
       "50%     65.500000   54.100000  2414.000000  120.000000    3.310000   \n",
       "75%     66.900000   55.500000  2935.000000  141.000000    3.580000   \n",
       "max     72.300000   59.800000  4066.000000  326.000000    3.940000   \n",
       "\n",
       "           stroke  compressionratio  horsepower      peakrpm     citympg  \\\n",
       "count  205.000000        205.000000  205.000000   205.000000  205.000000   \n",
       "mean     3.255415         10.142537  104.117073  5125.121951   25.219512   \n",
       "std      0.313597          3.972040   39.544167   476.985643    6.542142   \n",
       "min      2.070000          7.000000   48.000000  4150.000000   13.000000   \n",
       "25%      3.110000          8.600000   70.000000  4800.000000   19.000000   \n",
       "50%      3.290000          9.000000   95.000000  5200.000000   24.000000   \n",
       "75%      3.410000          9.400000  116.000000  5500.000000   30.000000   \n",
       "max      4.170000         23.000000  288.000000  6600.000000   49.000000   \n",
       "\n",
       "       highwaympg         price  \n",
       "count  205.000000    205.000000  \n",
       "mean    30.751220  13276.710571  \n",
       "std      6.886443   7988.852332  \n",
       "min     16.000000   5118.000000  \n",
       "25%     25.000000   7788.000000  \n",
       "50%     30.000000  10295.000000  \n",
       "75%     34.000000  16503.000000  \n",
       "max     54.000000  45400.000000  "
      ]
     },
     "execution_count": 143,
     "metadata": {},
     "output_type": "execute_result"
    }
   ],
   "source": [
    "dados.describe()"
   ]
  },
  {
   "cell_type": "code",
   "execution_count": 144,
   "id": "0f068506",
   "metadata": {},
   "outputs": [
    {
     "data": {
      "text/html": [
       "<div>\n",
       "<style scoped>\n",
       "    .dataframe tbody tr th:only-of-type {\n",
       "        vertical-align: middle;\n",
       "    }\n",
       "\n",
       "    .dataframe tbody tr th {\n",
       "        vertical-align: top;\n",
       "    }\n",
       "\n",
       "    .dataframe thead th {\n",
       "        text-align: right;\n",
       "    }\n",
       "</style>\n",
       "<table border=\"1\" class=\"dataframe\">\n",
       "  <thead>\n",
       "    <tr style=\"text-align: right;\">\n",
       "      <th></th>\n",
       "      <th>car_ID</th>\n",
       "      <th>symboling</th>\n",
       "      <th>fueltype</th>\n",
       "      <th>doornumber</th>\n",
       "      <th>wheelbase</th>\n",
       "      <th>carlength</th>\n",
       "      <th>carwidth</th>\n",
       "      <th>carheight</th>\n",
       "      <th>curbweight</th>\n",
       "      <th>enginesize</th>\n",
       "      <th>boreratio</th>\n",
       "      <th>stroke</th>\n",
       "      <th>compressionratio</th>\n",
       "      <th>horsepower</th>\n",
       "      <th>peakrpm</th>\n",
       "      <th>citympg</th>\n",
       "      <th>highwaympg</th>\n",
       "      <th>price</th>\n",
       "    </tr>\n",
       "  </thead>\n",
       "  <tbody>\n",
       "    <tr>\n",
       "      <th>car_ID</th>\n",
       "      <td>1.000000</td>\n",
       "      <td>-0.151621</td>\n",
       "      <td>0.125568</td>\n",
       "      <td>0.190352</td>\n",
       "      <td>0.129729</td>\n",
       "      <td>0.170636</td>\n",
       "      <td>0.052387</td>\n",
       "      <td>0.255960</td>\n",
       "      <td>0.071962</td>\n",
       "      <td>-0.033930</td>\n",
       "      <td>0.260064</td>\n",
       "      <td>-0.160824</td>\n",
       "      <td>0.150276</td>\n",
       "      <td>-0.015006</td>\n",
       "      <td>-0.203789</td>\n",
       "      <td>0.015940</td>\n",
       "      <td>0.011255</td>\n",
       "      <td>-0.109093</td>\n",
       "    </tr>\n",
       "    <tr>\n",
       "      <th>symboling</th>\n",
       "      <td>-0.151621</td>\n",
       "      <td>1.000000</td>\n",
       "      <td>-0.194311</td>\n",
       "      <td>-0.664073</td>\n",
       "      <td>-0.531954</td>\n",
       "      <td>-0.357612</td>\n",
       "      <td>-0.232919</td>\n",
       "      <td>-0.541038</td>\n",
       "      <td>-0.227691</td>\n",
       "      <td>-0.105790</td>\n",
       "      <td>-0.130051</td>\n",
       "      <td>-0.008735</td>\n",
       "      <td>-0.178515</td>\n",
       "      <td>0.070873</td>\n",
       "      <td>0.273606</td>\n",
       "      <td>-0.035823</td>\n",
       "      <td>0.034606</td>\n",
       "      <td>-0.079978</td>\n",
       "    </tr>\n",
       "    <tr>\n",
       "      <th>fueltype</th>\n",
       "      <td>0.125568</td>\n",
       "      <td>-0.194311</td>\n",
       "      <td>1.000000</td>\n",
       "      <td>0.191491</td>\n",
       "      <td>0.308346</td>\n",
       "      <td>0.212679</td>\n",
       "      <td>0.233880</td>\n",
       "      <td>0.284631</td>\n",
       "      <td>0.217275</td>\n",
       "      <td>0.069594</td>\n",
       "      <td>0.054451</td>\n",
       "      <td>0.241829</td>\n",
       "      <td>0.984356</td>\n",
       "      <td>-0.163926</td>\n",
       "      <td>-0.476883</td>\n",
       "      <td>0.255963</td>\n",
       "      <td>0.191392</td>\n",
       "      <td>0.105679</td>\n",
       "    </tr>\n",
       "    <tr>\n",
       "      <th>doornumber</th>\n",
       "      <td>0.190352</td>\n",
       "      <td>-0.664073</td>\n",
       "      <td>0.191491</td>\n",
       "      <td>1.000000</td>\n",
       "      <td>0.447357</td>\n",
       "      <td>0.398568</td>\n",
       "      <td>0.207168</td>\n",
       "      <td>0.552208</td>\n",
       "      <td>0.197379</td>\n",
       "      <td>0.020742</td>\n",
       "      <td>0.119258</td>\n",
       "      <td>-0.011082</td>\n",
       "      <td>0.177888</td>\n",
       "      <td>-0.126947</td>\n",
       "      <td>-0.247668</td>\n",
       "      <td>-0.012417</td>\n",
       "      <td>-0.036330</td>\n",
       "      <td>0.031835</td>\n",
       "    </tr>\n",
       "    <tr>\n",
       "      <th>wheelbase</th>\n",
       "      <td>0.129729</td>\n",
       "      <td>-0.531954</td>\n",
       "      <td>0.308346</td>\n",
       "      <td>0.447357</td>\n",
       "      <td>1.000000</td>\n",
       "      <td>0.874587</td>\n",
       "      <td>0.795144</td>\n",
       "      <td>0.589435</td>\n",
       "      <td>0.776386</td>\n",
       "      <td>0.569329</td>\n",
       "      <td>0.488750</td>\n",
       "      <td>0.160959</td>\n",
       "      <td>0.249786</td>\n",
       "      <td>0.353294</td>\n",
       "      <td>-0.360469</td>\n",
       "      <td>-0.470414</td>\n",
       "      <td>-0.544082</td>\n",
       "      <td>0.577816</td>\n",
       "    </tr>\n",
       "    <tr>\n",
       "      <th>carlength</th>\n",
       "      <td>0.170636</td>\n",
       "      <td>-0.357612</td>\n",
       "      <td>0.212679</td>\n",
       "      <td>0.398568</td>\n",
       "      <td>0.874587</td>\n",
       "      <td>1.000000</td>\n",
       "      <td>0.841118</td>\n",
       "      <td>0.491029</td>\n",
       "      <td>0.877728</td>\n",
       "      <td>0.683360</td>\n",
       "      <td>0.606454</td>\n",
       "      <td>0.129533</td>\n",
       "      <td>0.158414</td>\n",
       "      <td>0.552623</td>\n",
       "      <td>-0.287242</td>\n",
       "      <td>-0.670909</td>\n",
       "      <td>-0.704662</td>\n",
       "      <td>0.682920</td>\n",
       "    </tr>\n",
       "    <tr>\n",
       "      <th>carwidth</th>\n",
       "      <td>0.052387</td>\n",
       "      <td>-0.232919</td>\n",
       "      <td>0.233880</td>\n",
       "      <td>0.207168</td>\n",
       "      <td>0.795144</td>\n",
       "      <td>0.841118</td>\n",
       "      <td>1.000000</td>\n",
       "      <td>0.279210</td>\n",
       "      <td>0.867032</td>\n",
       "      <td>0.735433</td>\n",
       "      <td>0.559150</td>\n",
       "      <td>0.182942</td>\n",
       "      <td>0.181129</td>\n",
       "      <td>0.640732</td>\n",
       "      <td>-0.220012</td>\n",
       "      <td>-0.642704</td>\n",
       "      <td>-0.677218</td>\n",
       "      <td>0.759325</td>\n",
       "    </tr>\n",
       "    <tr>\n",
       "      <th>carheight</th>\n",
       "      <td>0.255960</td>\n",
       "      <td>-0.541038</td>\n",
       "      <td>0.284631</td>\n",
       "      <td>0.552208</td>\n",
       "      <td>0.589435</td>\n",
       "      <td>0.491029</td>\n",
       "      <td>0.279210</td>\n",
       "      <td>1.000000</td>\n",
       "      <td>0.295572</td>\n",
       "      <td>0.067149</td>\n",
       "      <td>0.171071</td>\n",
       "      <td>-0.055307</td>\n",
       "      <td>0.261214</td>\n",
       "      <td>-0.108802</td>\n",
       "      <td>-0.320411</td>\n",
       "      <td>-0.048640</td>\n",
       "      <td>-0.107358</td>\n",
       "      <td>0.119336</td>\n",
       "    </tr>\n",
       "    <tr>\n",
       "      <th>curbweight</th>\n",
       "      <td>0.071962</td>\n",
       "      <td>-0.227691</td>\n",
       "      <td>0.217275</td>\n",
       "      <td>0.197379</td>\n",
       "      <td>0.776386</td>\n",
       "      <td>0.877728</td>\n",
       "      <td>0.867032</td>\n",
       "      <td>0.295572</td>\n",
       "      <td>1.000000</td>\n",
       "      <td>0.850594</td>\n",
       "      <td>0.648480</td>\n",
       "      <td>0.168790</td>\n",
       "      <td>0.151362</td>\n",
       "      <td>0.750739</td>\n",
       "      <td>-0.266243</td>\n",
       "      <td>-0.757414</td>\n",
       "      <td>-0.797465</td>\n",
       "      <td>0.835305</td>\n",
       "    </tr>\n",
       "    <tr>\n",
       "      <th>enginesize</th>\n",
       "      <td>-0.033930</td>\n",
       "      <td>-0.105790</td>\n",
       "      <td>0.069594</td>\n",
       "      <td>0.020742</td>\n",
       "      <td>0.569329</td>\n",
       "      <td>0.683360</td>\n",
       "      <td>0.735433</td>\n",
       "      <td>0.067149</td>\n",
       "      <td>0.850594</td>\n",
       "      <td>1.000000</td>\n",
       "      <td>0.583774</td>\n",
       "      <td>0.203129</td>\n",
       "      <td>0.028971</td>\n",
       "      <td>0.809769</td>\n",
       "      <td>-0.244660</td>\n",
       "      <td>-0.653658</td>\n",
       "      <td>-0.677470</td>\n",
       "      <td>0.874145</td>\n",
       "    </tr>\n",
       "    <tr>\n",
       "      <th>boreratio</th>\n",
       "      <td>0.260064</td>\n",
       "      <td>-0.130051</td>\n",
       "      <td>0.054451</td>\n",
       "      <td>0.119258</td>\n",
       "      <td>0.488750</td>\n",
       "      <td>0.606454</td>\n",
       "      <td>0.559150</td>\n",
       "      <td>0.171071</td>\n",
       "      <td>0.648480</td>\n",
       "      <td>0.583774</td>\n",
       "      <td>1.000000</td>\n",
       "      <td>-0.055909</td>\n",
       "      <td>0.005197</td>\n",
       "      <td>0.573677</td>\n",
       "      <td>-0.254976</td>\n",
       "      <td>-0.584532</td>\n",
       "      <td>-0.587012</td>\n",
       "      <td>0.553173</td>\n",
       "    </tr>\n",
       "    <tr>\n",
       "      <th>stroke</th>\n",
       "      <td>-0.160824</td>\n",
       "      <td>-0.008735</td>\n",
       "      <td>0.241829</td>\n",
       "      <td>-0.011082</td>\n",
       "      <td>0.160959</td>\n",
       "      <td>0.129533</td>\n",
       "      <td>0.182942</td>\n",
       "      <td>-0.055307</td>\n",
       "      <td>0.168790</td>\n",
       "      <td>0.203129</td>\n",
       "      <td>-0.055909</td>\n",
       "      <td>1.000000</td>\n",
       "      <td>0.186110</td>\n",
       "      <td>0.080940</td>\n",
       "      <td>-0.067964</td>\n",
       "      <td>-0.042145</td>\n",
       "      <td>-0.043931</td>\n",
       "      <td>0.079443</td>\n",
       "    </tr>\n",
       "    <tr>\n",
       "      <th>compressionratio</th>\n",
       "      <td>0.150276</td>\n",
       "      <td>-0.178515</td>\n",
       "      <td>0.984356</td>\n",
       "      <td>0.177888</td>\n",
       "      <td>0.249786</td>\n",
       "      <td>0.158414</td>\n",
       "      <td>0.181129</td>\n",
       "      <td>0.261214</td>\n",
       "      <td>0.151362</td>\n",
       "      <td>0.028971</td>\n",
       "      <td>0.005197</td>\n",
       "      <td>0.186110</td>\n",
       "      <td>1.000000</td>\n",
       "      <td>-0.204326</td>\n",
       "      <td>-0.435741</td>\n",
       "      <td>0.324701</td>\n",
       "      <td>0.265201</td>\n",
       "      <td>0.067984</td>\n",
       "    </tr>\n",
       "    <tr>\n",
       "      <th>horsepower</th>\n",
       "      <td>-0.015006</td>\n",
       "      <td>0.070873</td>\n",
       "      <td>-0.163926</td>\n",
       "      <td>-0.126947</td>\n",
       "      <td>0.353294</td>\n",
       "      <td>0.552623</td>\n",
       "      <td>0.640732</td>\n",
       "      <td>-0.108802</td>\n",
       "      <td>0.750739</td>\n",
       "      <td>0.809769</td>\n",
       "      <td>0.573677</td>\n",
       "      <td>0.080940</td>\n",
       "      <td>-0.204326</td>\n",
       "      <td>1.000000</td>\n",
       "      <td>0.131073</td>\n",
       "      <td>-0.801456</td>\n",
       "      <td>-0.770544</td>\n",
       "      <td>0.808139</td>\n",
       "    </tr>\n",
       "    <tr>\n",
       "      <th>peakrpm</th>\n",
       "      <td>-0.203789</td>\n",
       "      <td>0.273606</td>\n",
       "      <td>-0.476883</td>\n",
       "      <td>-0.247668</td>\n",
       "      <td>-0.360469</td>\n",
       "      <td>-0.287242</td>\n",
       "      <td>-0.220012</td>\n",
       "      <td>-0.320411</td>\n",
       "      <td>-0.266243</td>\n",
       "      <td>-0.244660</td>\n",
       "      <td>-0.254976</td>\n",
       "      <td>-0.067964</td>\n",
       "      <td>-0.435741</td>\n",
       "      <td>0.131073</td>\n",
       "      <td>1.000000</td>\n",
       "      <td>-0.113544</td>\n",
       "      <td>-0.054275</td>\n",
       "      <td>-0.085267</td>\n",
       "    </tr>\n",
       "    <tr>\n",
       "      <th>citympg</th>\n",
       "      <td>0.015940</td>\n",
       "      <td>-0.035823</td>\n",
       "      <td>0.255963</td>\n",
       "      <td>-0.012417</td>\n",
       "      <td>-0.470414</td>\n",
       "      <td>-0.670909</td>\n",
       "      <td>-0.642704</td>\n",
       "      <td>-0.048640</td>\n",
       "      <td>-0.757414</td>\n",
       "      <td>-0.653658</td>\n",
       "      <td>-0.584532</td>\n",
       "      <td>-0.042145</td>\n",
       "      <td>0.324701</td>\n",
       "      <td>-0.801456</td>\n",
       "      <td>-0.113544</td>\n",
       "      <td>1.000000</td>\n",
       "      <td>0.971337</td>\n",
       "      <td>-0.685751</td>\n",
       "    </tr>\n",
       "    <tr>\n",
       "      <th>highwaympg</th>\n",
       "      <td>0.011255</td>\n",
       "      <td>0.034606</td>\n",
       "      <td>0.191392</td>\n",
       "      <td>-0.036330</td>\n",
       "      <td>-0.544082</td>\n",
       "      <td>-0.704662</td>\n",
       "      <td>-0.677218</td>\n",
       "      <td>-0.107358</td>\n",
       "      <td>-0.797465</td>\n",
       "      <td>-0.677470</td>\n",
       "      <td>-0.587012</td>\n",
       "      <td>-0.043931</td>\n",
       "      <td>0.265201</td>\n",
       "      <td>-0.770544</td>\n",
       "      <td>-0.054275</td>\n",
       "      <td>0.971337</td>\n",
       "      <td>1.000000</td>\n",
       "      <td>-0.697599</td>\n",
       "    </tr>\n",
       "    <tr>\n",
       "      <th>price</th>\n",
       "      <td>-0.109093</td>\n",
       "      <td>-0.079978</td>\n",
       "      <td>0.105679</td>\n",
       "      <td>0.031835</td>\n",
       "      <td>0.577816</td>\n",
       "      <td>0.682920</td>\n",
       "      <td>0.759325</td>\n",
       "      <td>0.119336</td>\n",
       "      <td>0.835305</td>\n",
       "      <td>0.874145</td>\n",
       "      <td>0.553173</td>\n",
       "      <td>0.079443</td>\n",
       "      <td>0.067984</td>\n",
       "      <td>0.808139</td>\n",
       "      <td>-0.085267</td>\n",
       "      <td>-0.685751</td>\n",
       "      <td>-0.697599</td>\n",
       "      <td>1.000000</td>\n",
       "    </tr>\n",
       "  </tbody>\n",
       "</table>\n",
       "</div>"
      ],
      "text/plain": [
       "                    car_ID  symboling  fueltype  doornumber  wheelbase  \\\n",
       "car_ID            1.000000  -0.151621  0.125568    0.190352   0.129729   \n",
       "symboling        -0.151621   1.000000 -0.194311   -0.664073  -0.531954   \n",
       "fueltype          0.125568  -0.194311  1.000000    0.191491   0.308346   \n",
       "doornumber        0.190352  -0.664073  0.191491    1.000000   0.447357   \n",
       "wheelbase         0.129729  -0.531954  0.308346    0.447357   1.000000   \n",
       "carlength         0.170636  -0.357612  0.212679    0.398568   0.874587   \n",
       "carwidth          0.052387  -0.232919  0.233880    0.207168   0.795144   \n",
       "carheight         0.255960  -0.541038  0.284631    0.552208   0.589435   \n",
       "curbweight        0.071962  -0.227691  0.217275    0.197379   0.776386   \n",
       "enginesize       -0.033930  -0.105790  0.069594    0.020742   0.569329   \n",
       "boreratio         0.260064  -0.130051  0.054451    0.119258   0.488750   \n",
       "stroke           -0.160824  -0.008735  0.241829   -0.011082   0.160959   \n",
       "compressionratio  0.150276  -0.178515  0.984356    0.177888   0.249786   \n",
       "horsepower       -0.015006   0.070873 -0.163926   -0.126947   0.353294   \n",
       "peakrpm          -0.203789   0.273606 -0.476883   -0.247668  -0.360469   \n",
       "citympg           0.015940  -0.035823  0.255963   -0.012417  -0.470414   \n",
       "highwaympg        0.011255   0.034606  0.191392   -0.036330  -0.544082   \n",
       "price            -0.109093  -0.079978  0.105679    0.031835   0.577816   \n",
       "\n",
       "                  carlength  carwidth  carheight  curbweight  enginesize  \\\n",
       "car_ID             0.170636  0.052387   0.255960    0.071962   -0.033930   \n",
       "symboling         -0.357612 -0.232919  -0.541038   -0.227691   -0.105790   \n",
       "fueltype           0.212679  0.233880   0.284631    0.217275    0.069594   \n",
       "doornumber         0.398568  0.207168   0.552208    0.197379    0.020742   \n",
       "wheelbase          0.874587  0.795144   0.589435    0.776386    0.569329   \n",
       "carlength          1.000000  0.841118   0.491029    0.877728    0.683360   \n",
       "carwidth           0.841118  1.000000   0.279210    0.867032    0.735433   \n",
       "carheight          0.491029  0.279210   1.000000    0.295572    0.067149   \n",
       "curbweight         0.877728  0.867032   0.295572    1.000000    0.850594   \n",
       "enginesize         0.683360  0.735433   0.067149    0.850594    1.000000   \n",
       "boreratio          0.606454  0.559150   0.171071    0.648480    0.583774   \n",
       "stroke             0.129533  0.182942  -0.055307    0.168790    0.203129   \n",
       "compressionratio   0.158414  0.181129   0.261214    0.151362    0.028971   \n",
       "horsepower         0.552623  0.640732  -0.108802    0.750739    0.809769   \n",
       "peakrpm           -0.287242 -0.220012  -0.320411   -0.266243   -0.244660   \n",
       "citympg           -0.670909 -0.642704  -0.048640   -0.757414   -0.653658   \n",
       "highwaympg        -0.704662 -0.677218  -0.107358   -0.797465   -0.677470   \n",
       "price              0.682920  0.759325   0.119336    0.835305    0.874145   \n",
       "\n",
       "                  boreratio    stroke  compressionratio  horsepower   peakrpm  \\\n",
       "car_ID             0.260064 -0.160824          0.150276   -0.015006 -0.203789   \n",
       "symboling         -0.130051 -0.008735         -0.178515    0.070873  0.273606   \n",
       "fueltype           0.054451  0.241829          0.984356   -0.163926 -0.476883   \n",
       "doornumber         0.119258 -0.011082          0.177888   -0.126947 -0.247668   \n",
       "wheelbase          0.488750  0.160959          0.249786    0.353294 -0.360469   \n",
       "carlength          0.606454  0.129533          0.158414    0.552623 -0.287242   \n",
       "carwidth           0.559150  0.182942          0.181129    0.640732 -0.220012   \n",
       "carheight          0.171071 -0.055307          0.261214   -0.108802 -0.320411   \n",
       "curbweight         0.648480  0.168790          0.151362    0.750739 -0.266243   \n",
       "enginesize         0.583774  0.203129          0.028971    0.809769 -0.244660   \n",
       "boreratio          1.000000 -0.055909          0.005197    0.573677 -0.254976   \n",
       "stroke            -0.055909  1.000000          0.186110    0.080940 -0.067964   \n",
       "compressionratio   0.005197  0.186110          1.000000   -0.204326 -0.435741   \n",
       "horsepower         0.573677  0.080940         -0.204326    1.000000  0.131073   \n",
       "peakrpm           -0.254976 -0.067964         -0.435741    0.131073  1.000000   \n",
       "citympg           -0.584532 -0.042145          0.324701   -0.801456 -0.113544   \n",
       "highwaympg        -0.587012 -0.043931          0.265201   -0.770544 -0.054275   \n",
       "price              0.553173  0.079443          0.067984    0.808139 -0.085267   \n",
       "\n",
       "                   citympg  highwaympg     price  \n",
       "car_ID            0.015940    0.011255 -0.109093  \n",
       "symboling        -0.035823    0.034606 -0.079978  \n",
       "fueltype          0.255963    0.191392  0.105679  \n",
       "doornumber       -0.012417   -0.036330  0.031835  \n",
       "wheelbase        -0.470414   -0.544082  0.577816  \n",
       "carlength        -0.670909   -0.704662  0.682920  \n",
       "carwidth         -0.642704   -0.677218  0.759325  \n",
       "carheight        -0.048640   -0.107358  0.119336  \n",
       "curbweight       -0.757414   -0.797465  0.835305  \n",
       "enginesize       -0.653658   -0.677470  0.874145  \n",
       "boreratio        -0.584532   -0.587012  0.553173  \n",
       "stroke           -0.042145   -0.043931  0.079443  \n",
       "compressionratio  0.324701    0.265201  0.067984  \n",
       "horsepower       -0.801456   -0.770544  0.808139  \n",
       "peakrpm          -0.113544   -0.054275 -0.085267  \n",
       "citympg           1.000000    0.971337 -0.685751  \n",
       "highwaympg        0.971337    1.000000 -0.697599  \n",
       "price            -0.685751   -0.697599  1.000000  "
      ]
     },
     "execution_count": 144,
     "metadata": {},
     "output_type": "execute_result"
    }
   ],
   "source": [
    "dados.corr()"
   ]
  },
  {
   "cell_type": "markdown",
   "id": "f7859f85",
   "metadata": {},
   "source": [
    "Pela tabela podemos ver que fueltype (tipo de combustível) tem correlação de 0.1 com a variável preço e doornumber (número de portas) tem 0.03. As que possuem um nivel maior de correlação são:\n",
    "- carlength (compriemnto do carro)\n",
    "- carheight (altura do carro)\n",
    "- curbweight (peso-meio-fio)\n",
    "- enginesize (tamanho do motor)\n",
    "- horsepower (cavalos) "
   ]
  },
  {
   "cell_type": "markdown",
   "id": "cdedc973",
   "metadata": {},
   "source": [
    "#### Selecionando e trocando nomes das variáveis"
   ]
  },
  {
   "cell_type": "code",
   "execution_count": 145,
   "id": "156d9fcf",
   "metadata": {},
   "outputs": [],
   "source": [
    "dados_carros = dados[['price', 'carlength', 'carheight', 'curbweight', 'enginesize', 'horsepower']]"
   ]
  },
  {
   "cell_type": "code",
   "execution_count": 146,
   "id": "fde37561",
   "metadata": {},
   "outputs": [
    {
     "data": {
      "text/html": [
       "<div>\n",
       "<style scoped>\n",
       "    .dataframe tbody tr th:only-of-type {\n",
       "        vertical-align: middle;\n",
       "    }\n",
       "\n",
       "    .dataframe tbody tr th {\n",
       "        vertical-align: top;\n",
       "    }\n",
       "\n",
       "    .dataframe thead th {\n",
       "        text-align: right;\n",
       "    }\n",
       "</style>\n",
       "<table border=\"1\" class=\"dataframe\">\n",
       "  <thead>\n",
       "    <tr style=\"text-align: right;\">\n",
       "      <th></th>\n",
       "      <th>preco</th>\n",
       "      <th>comp_do_carro</th>\n",
       "      <th>alt_do_carro</th>\n",
       "      <th>peso_meio_fio</th>\n",
       "      <th>tam_do_motor</th>\n",
       "      <th>cavalos</th>\n",
       "    </tr>\n",
       "  </thead>\n",
       "  <tbody>\n",
       "    <tr>\n",
       "      <th>0</th>\n",
       "      <td>13495.0</td>\n",
       "      <td>168.8</td>\n",
       "      <td>48.8</td>\n",
       "      <td>2548</td>\n",
       "      <td>130</td>\n",
       "      <td>111</td>\n",
       "    </tr>\n",
       "    <tr>\n",
       "      <th>1</th>\n",
       "      <td>16500.0</td>\n",
       "      <td>168.8</td>\n",
       "      <td>48.8</td>\n",
       "      <td>2548</td>\n",
       "      <td>130</td>\n",
       "      <td>111</td>\n",
       "    </tr>\n",
       "    <tr>\n",
       "      <th>2</th>\n",
       "      <td>16500.0</td>\n",
       "      <td>171.2</td>\n",
       "      <td>52.4</td>\n",
       "      <td>2823</td>\n",
       "      <td>152</td>\n",
       "      <td>154</td>\n",
       "    </tr>\n",
       "    <tr>\n",
       "      <th>3</th>\n",
       "      <td>13950.0</td>\n",
       "      <td>176.6</td>\n",
       "      <td>54.3</td>\n",
       "      <td>2337</td>\n",
       "      <td>109</td>\n",
       "      <td>102</td>\n",
       "    </tr>\n",
       "    <tr>\n",
       "      <th>4</th>\n",
       "      <td>17450.0</td>\n",
       "      <td>176.6</td>\n",
       "      <td>54.3</td>\n",
       "      <td>2824</td>\n",
       "      <td>136</td>\n",
       "      <td>115</td>\n",
       "    </tr>\n",
       "  </tbody>\n",
       "</table>\n",
       "</div>"
      ],
      "text/plain": [
       "     preco  comp_do_carro  alt_do_carro  peso_meio_fio  tam_do_motor  cavalos\n",
       "0  13495.0          168.8          48.8           2548           130      111\n",
       "1  16500.0          168.8          48.8           2548           130      111\n",
       "2  16500.0          171.2          52.4           2823           152      154\n",
       "3  13950.0          176.6          54.3           2337           109      102\n",
       "4  17450.0          176.6          54.3           2824           136      115"
      ]
     },
     "execution_count": 146,
     "metadata": {},
     "output_type": "execute_result"
    }
   ],
   "source": [
    "dados_carros.columns = ['preco', 'comp_do_carro', 'alt_do_carro', 'peso_meio_fio', 'tam_do_motor', 'cavalos']\n",
    "dados_carros.head()"
   ]
  },
  {
   "cell_type": "markdown",
   "id": "3590ffa8",
   "metadata": {},
   "source": [
    "### Análises gráficas"
   ]
  },
  {
   "cell_type": "markdown",
   "id": "52cae7fa",
   "metadata": {},
   "source": [
    "#### Box plot da variável *dependente* (y)"
   ]
  },
  {
   "cell_type": "code",
   "execution_count": 147,
   "id": "8abfc91d",
   "metadata": {},
   "outputs": [],
   "source": [
    "import seaborn as sns"
   ]
  },
  {
   "cell_type": "code",
   "execution_count": 148,
   "id": "55c23726",
   "metadata": {},
   "outputs": [
    {
     "data": {
      "text/plain": [
       "<AxesSubplot:title={'left':'Variável y'}, xlabel='Preços'>"
      ]
     },
     "execution_count": 148,
     "metadata": {},
     "output_type": "execute_result"
    },
    {
     "data": {
      "image/png": "[encoded data removed]",
      "text/plain": [
       "<Figure size 1152x576 with 1 Axes>"
      ]
     },
     "metadata": {},
     "output_type": "display_data"
    }
   ],
   "source": [
    "sns.set_style('darkgrid')\n",
    "grafico = sns.boxplot(data = dados_carros.preco, orient = 'h')\n",
    "grafico.figure.set_size_inches(16,8)\n",
    "grafico.set_title('Variável y', fontsize = 18, loc = 'left')\n",
    "grafico.set_xlabel('Preços', fontsize = 16)\n",
    "grafico"
   ]
  },
  {
   "cell_type": "code",
   "execution_count": 149,
   "id": "f151414d",
   "metadata": {},
   "outputs": [
    {
     "name": "stderr",
     "output_type": "stream",
     "text": [
      "C:\\Users\\felip\\anaconda3\\envs\\felipe-pandas\\lib\\site-packages\\seaborn\\distributions.py:2557: FutureWarning: `distplot` is a deprecated function and will be removed in a future version. Please adapt your code to use either `displot` (a figure-level function with similar flexibility) or `histplot` (an axes-level function for histograms).\n",
      "  warnings.warn(msg, FutureWarning)\n"
     ]
    },
    {
     "data": {
      "text/plain": [
       "<AxesSubplot:title={'left':'Distribuição variável preço'}, xlabel='Preços', ylabel='Density'>"
      ]
     },
     "execution_count": 149,
     "metadata": {},
     "output_type": "execute_result"
    },
    {
     "data": {
      "image/png": "[encoded data removed]",
      "text/plain": [
       "<Figure size 1152x576 with 1 Axes>"
      ]
     },
     "metadata": {},
     "output_type": "display_data"
    }
   ],
   "source": [
    "grafico = sns.distplot(dados_carros.preco)\n",
    "grafico.figure.set_size_inches(16, 8)\n",
    "grafico.set_title('Distribuição variável preço', fontsize = 18, loc = 'left')\n",
    "grafico.set_xlabel('Preços', fontsize = 16)\n",
    "grafico"
   ]
  },
  {
   "cell_type": "markdown",
   "id": "929b6512",
   "metadata": {},
   "source": [
    "Com o distplot, é possível perceber que a variável y possui uma distribuição assimétrica à direita."
   ]
  },
  {
   "cell_type": "markdown",
   "id": "83ec2418",
   "metadata": {},
   "source": [
    "### Gráficos de dispersão entre as variáveis"
   ]
  },
  {
   "cell_type": "code",
   "execution_count": 150,
   "id": "bbc6c34d",
   "metadata": {},
   "outputs": [
    {
     "data": {
      "text/html": [
       "<div>\n",
       "<style scoped>\n",
       "    .dataframe tbody tr th:only-of-type {\n",
       "        vertical-align: middle;\n",
       "    }\n",
       "\n",
       "    .dataframe tbody tr th {\n",
       "        vertical-align: top;\n",
       "    }\n",
       "\n",
       "    .dataframe thead th {\n",
       "        text-align: right;\n",
       "    }\n",
       "</style>\n",
       "<table border=\"1\" class=\"dataframe\">\n",
       "  <thead>\n",
       "    <tr style=\"text-align: right;\">\n",
       "      <th></th>\n",
       "      <th>preco</th>\n",
       "      <th>comp_do_carro</th>\n",
       "      <th>alt_do_carro</th>\n",
       "      <th>peso_meio_fio</th>\n",
       "      <th>tam_do_motor</th>\n",
       "      <th>cavalos</th>\n",
       "    </tr>\n",
       "  </thead>\n",
       "  <tbody>\n",
       "    <tr>\n",
       "      <th>0</th>\n",
       "      <td>13495.0</td>\n",
       "      <td>168.8</td>\n",
       "      <td>48.8</td>\n",
       "      <td>2548</td>\n",
       "      <td>130</td>\n",
       "      <td>111</td>\n",
       "    </tr>\n",
       "    <tr>\n",
       "      <th>1</th>\n",
       "      <td>16500.0</td>\n",
       "      <td>168.8</td>\n",
       "      <td>48.8</td>\n",
       "      <td>2548</td>\n",
       "      <td>130</td>\n",
       "      <td>111</td>\n",
       "    </tr>\n",
       "  </tbody>\n",
       "</table>\n",
       "</div>"
      ],
      "text/plain": [
       "     preco  comp_do_carro  alt_do_carro  peso_meio_fio  tam_do_motor  cavalos\n",
       "0  13495.0          168.8          48.8           2548           130      111\n",
       "1  16500.0          168.8          48.8           2548           130      111"
      ]
     },
     "execution_count": 150,
     "metadata": {},
     "output_type": "execute_result"
    }
   ],
   "source": [
    "dados_carros.head(2)"
   ]
  },
  {
   "cell_type": "code",
   "execution_count": 151,
   "id": "4cf53a25",
   "metadata": {},
   "outputs": [
    {
     "data": {
      "text/plain": [
       "<seaborn.axisgrid.PairGrid at 0x29582104df0>"
      ]
     },
     "execution_count": 151,
     "metadata": {},
     "output_type": "execute_result"
    },
    {
     "data": {
      "image/png": "[encoded data removed]",
      "text/plain": [
       "<Figure size 900x180 with 5 Axes>"
      ]
     },
     "metadata": {},
     "output_type": "display_data"
    }
   ],
   "source": [
    "grafico = sns.pairplot(dados_carros, y_vars = 'preco',\n",
    "                      x_vars = ['comp_do_carro', 'alt_do_carro', 'peso_meio_fio', 'tam_do_motor', 'cavalos'],\n",
    "                      kind = 'reg')\n",
    "grafico.fig.suptitle('Dispersão entre as variáveis', fontsize = 20, y = 1.1)\n",
    "grafico"
   ]
  },
  {
   "cell_type": "markdown",
   "id": "76679aa9",
   "metadata": {},
   "source": [
    "Os gráficos mostram que os preços dos carros aumentam conforme aumenta o valor das variáveis explicativas x."
   ]
  },
  {
   "cell_type": "markdown",
   "id": "fe68af43",
   "metadata": {},
   "source": [
    "## Aplicando a transformação logarítmica aos dados do *dataset*\n"
   ]
  },
  {
   "cell_type": "code",
   "execution_count": 152,
   "id": "4a215804",
   "metadata": {},
   "outputs": [],
   "source": [
    "import numpy as np"
   ]
  },
  {
   "cell_type": "code",
   "execution_count": 153,
   "id": "171ad5b7",
   "metadata": {},
   "outputs": [
    {
     "name": "stderr",
     "output_type": "stream",
     "text": [
      "C:\\Users\\felip\\anaconda3\\envs\\felipe-pandas\\lib\\site-packages\\pandas\\core\\frame.py:3607: SettingWithCopyWarning: \n",
      "A value is trying to be set on a copy of a slice from a DataFrame.\n",
      "Try using .loc[row_indexer,col_indexer] = value instead\n",
      "\n",
      "See the caveats in the documentation: https://pandas.pydata.org/pandas-docs/stable/user_guide/indexing.html#returning-a-view-versus-a-copy\n",
      "  self._set_item(key, value)\n"
     ]
    }
   ],
   "source": [
    "dados_carros['log_preco'] = np.log(dados_carros.preco)\n",
    "dados_carros['log_comp_do_carro'] = np.log(dados_carros.comp_do_carro)\n",
    "dados_carros['log_alt_do_carro'] = np.log(dados_carros.alt_do_carro)\n",
    "dados_carros['log_peso_meio_fio'] = np.log(dados_carros.peso_meio_fio)\n",
    "dados_carros['log_tam_do_motor'] = np.log(dados_carros.tam_do_motor)\n",
    "dados_carros['log_cavalos'] = np.log(dados_carros.cavalos)"
   ]
  },
  {
   "cell_type": "code",
   "execution_count": 154,
   "id": "e06902b4",
   "metadata": {},
   "outputs": [
    {
     "data": {
      "text/html": [
       "<div>\n",
       "<style scoped>\n",
       "    .dataframe tbody tr th:only-of-type {\n",
       "        vertical-align: middle;\n",
       "    }\n",
       "\n",
       "    .dataframe tbody tr th {\n",
       "        vertical-align: top;\n",
       "    }\n",
       "\n",
       "    .dataframe thead th {\n",
       "        text-align: right;\n",
       "    }\n",
       "</style>\n",
       "<table border=\"1\" class=\"dataframe\">\n",
       "  <thead>\n",
       "    <tr style=\"text-align: right;\">\n",
       "      <th></th>\n",
       "      <th>preco</th>\n",
       "      <th>comp_do_carro</th>\n",
       "      <th>alt_do_carro</th>\n",
       "      <th>peso_meio_fio</th>\n",
       "      <th>tam_do_motor</th>\n",
       "      <th>cavalos</th>\n",
       "      <th>log_preco</th>\n",
       "      <th>log_comp_do_carro</th>\n",
       "      <th>log_alt_do_carro</th>\n",
       "      <th>log_peso_meio_fio</th>\n",
       "      <th>log_tam_do_motor</th>\n",
       "      <th>log_cavalos</th>\n",
       "    </tr>\n",
       "  </thead>\n",
       "  <tbody>\n",
       "    <tr>\n",
       "      <th>0</th>\n",
       "      <td>13495.0</td>\n",
       "      <td>168.8</td>\n",
       "      <td>48.8</td>\n",
       "      <td>2548</td>\n",
       "      <td>130</td>\n",
       "      <td>111</td>\n",
       "      <td>9.510075</td>\n",
       "      <td>5.128715</td>\n",
       "      <td>3.887730</td>\n",
       "      <td>7.843064</td>\n",
       "      <td>4.867534</td>\n",
       "      <td>4.709530</td>\n",
       "    </tr>\n",
       "    <tr>\n",
       "      <th>1</th>\n",
       "      <td>16500.0</td>\n",
       "      <td>168.8</td>\n",
       "      <td>48.8</td>\n",
       "      <td>2548</td>\n",
       "      <td>130</td>\n",
       "      <td>111</td>\n",
       "      <td>9.711116</td>\n",
       "      <td>5.128715</td>\n",
       "      <td>3.887730</td>\n",
       "      <td>7.843064</td>\n",
       "      <td>4.867534</td>\n",
       "      <td>4.709530</td>\n",
       "    </tr>\n",
       "    <tr>\n",
       "      <th>2</th>\n",
       "      <td>16500.0</td>\n",
       "      <td>171.2</td>\n",
       "      <td>52.4</td>\n",
       "      <td>2823</td>\n",
       "      <td>152</td>\n",
       "      <td>154</td>\n",
       "      <td>9.711116</td>\n",
       "      <td>5.142832</td>\n",
       "      <td>3.958907</td>\n",
       "      <td>7.945555</td>\n",
       "      <td>5.023881</td>\n",
       "      <td>5.036953</td>\n",
       "    </tr>\n",
       "    <tr>\n",
       "      <th>3</th>\n",
       "      <td>13950.0</td>\n",
       "      <td>176.6</td>\n",
       "      <td>54.3</td>\n",
       "      <td>2337</td>\n",
       "      <td>109</td>\n",
       "      <td>102</td>\n",
       "      <td>9.543235</td>\n",
       "      <td>5.173887</td>\n",
       "      <td>3.994524</td>\n",
       "      <td>7.756623</td>\n",
       "      <td>4.691348</td>\n",
       "      <td>4.624973</td>\n",
       "    </tr>\n",
       "    <tr>\n",
       "      <th>4</th>\n",
       "      <td>17450.0</td>\n",
       "      <td>176.6</td>\n",
       "      <td>54.3</td>\n",
       "      <td>2824</td>\n",
       "      <td>136</td>\n",
       "      <td>115</td>\n",
       "      <td>9.767095</td>\n",
       "      <td>5.173887</td>\n",
       "      <td>3.994524</td>\n",
       "      <td>7.945910</td>\n",
       "      <td>4.912655</td>\n",
       "      <td>4.744932</td>\n",
       "    </tr>\n",
       "  </tbody>\n",
       "</table>\n",
       "</div>"
      ],
      "text/plain": [
       "     preco  comp_do_carro  alt_do_carro  peso_meio_fio  tam_do_motor  cavalos  \\\n",
       "0  13495.0          168.8          48.8           2548           130      111   \n",
       "1  16500.0          168.8          48.8           2548           130      111   \n",
       "2  16500.0          171.2          52.4           2823           152      154   \n",
       "3  13950.0          176.6          54.3           2337           109      102   \n",
       "4  17450.0          176.6          54.3           2824           136      115   \n",
       "\n",
       "   log_preco  log_comp_do_carro  log_alt_do_carro  log_peso_meio_fio  \\\n",
       "0   9.510075           5.128715          3.887730           7.843064   \n",
       "1   9.711116           5.128715          3.887730           7.843064   \n",
       "2   9.711116           5.142832          3.958907           7.945555   \n",
       "3   9.543235           5.173887          3.994524           7.756623   \n",
       "4   9.767095           5.173887          3.994524           7.945910   \n",
       "\n",
       "   log_tam_do_motor  log_cavalos  \n",
       "0          4.867534     4.709530  \n",
       "1          4.867534     4.709530  \n",
       "2          5.023881     5.036953  \n",
       "3          4.691348     4.624973  \n",
       "4          4.912655     4.744932  "
      ]
     },
     "execution_count": 154,
     "metadata": {},
     "output_type": "execute_result"
    }
   ],
   "source": [
    "dados_carros.head()"
   ]
  },
  {
   "cell_type": "markdown",
   "id": "167d18b4",
   "metadata": {},
   "source": [
    "### Análises gráficas da variável dependente transformada"
   ]
  },
  {
   "cell_type": "code",
   "execution_count": 155,
   "id": "3b38208a",
   "metadata": {},
   "outputs": [
    {
     "name": "stderr",
     "output_type": "stream",
     "text": [
      "C:\\Users\\felip\\anaconda3\\envs\\felipe-pandas\\lib\\site-packages\\seaborn\\distributions.py:2557: FutureWarning: `distplot` is a deprecated function and will be removed in a future version. Please adapt your code to use either `displot` (a figure-level function with similar flexibility) or `histplot` (an axes-level function for histograms).\n",
      "  warnings.warn(msg, FutureWarning)\n"
     ]
    },
    {
     "data": {
      "text/plain": [
       "<AxesSubplot:title={'left':'Distribuição variável dependente transformada'}, xlabel='Preços', ylabel='Density'>"
      ]
     },
     "execution_count": 155,
     "metadata": {},
     "output_type": "execute_result"
    },
    {
     "data": {
      "image/png": "[encoded data removed]",
      "text/plain": [
       "<Figure size 1152x576 with 1 Axes>"
      ]
     },
     "metadata": {},
     "output_type": "display_data"
    }
   ],
   "source": [
    "grafico = sns.distplot(dados_carros.log_preco)\n",
    "grafico.figure.set_size_inches(16, 8)\n",
    "grafico.set_title('Distribuição variável dependente transformada', fontsize = 18, loc = 'left')\n",
    "grafico.set_xlabel('Preços', fontsize = 16)\n",
    "grafico"
   ]
  },
  {
   "cell_type": "markdown",
   "id": "3198563f",
   "metadata": {},
   "source": [
    "### Gráficos de dispersão entre as variáveis transformadas"
   ]
  },
  {
   "cell_type": "code",
   "execution_count": 156,
   "id": "204f3033",
   "metadata": {},
   "outputs": [
    {
     "data": {
      "text/plain": [
       "<seaborn.axisgrid.PairGrid at 0x295822da400>"
      ]
     },
     "execution_count": 156,
     "metadata": {},
     "output_type": "execute_result"
    },
    {
     "data": {
      "image/png": "[encoded data removed]",
      "text/plain": [
       "<Figure size 900x180 with 5 Axes>"
      ]
     },
     "metadata": {},
     "output_type": "display_data"
    }
   ],
   "source": [
    "grafico = sns.pairplot(dados_carros, y_vars = 'log_preco',\n",
    "                      x_vars = ['log_comp_do_carro', 'log_alt_do_carro', 'log_peso_meio_fio', 'log_tam_do_motor', 'log_cavalos'],\n",
    "                      kind = 'reg')\n",
    "grafico.fig.suptitle('Dispersão entre as variáveis transformadas', fontsize = 20, y = 1.1)\n",
    "grafico"
   ]
  },
  {
   "cell_type": "markdown",
   "id": "c6ad40cc",
   "metadata": {},
   "source": [
    "## Criando datasets de treino e teste"
   ]
  },
  {
   "cell_type": "code",
   "execution_count": 157,
   "id": "b663c3d5",
   "metadata": {},
   "outputs": [],
   "source": [
    "from sklearn.model_selection import train_test_split\n",
    "from sklearn.linear_model import LinearRegression\n",
    "from sklearn import metrics"
   ]
  },
  {
   "cell_type": "code",
   "execution_count": 158,
   "id": "597e0abb",
   "metadata": {},
   "outputs": [],
   "source": [
    "variavel_y = dados_carros['log_preco']\n",
    "variaveis_x = dados_carros[['log_comp_do_carro', 'log_alt_do_carro', 'log_peso_meio_fio', 'log_tam_do_motor', 'log_cavalos']]"
   ]
  },
  {
   "cell_type": "code",
   "execution_count": 159,
   "id": "2795c558",
   "metadata": {},
   "outputs": [],
   "source": [
    "X_treino, X_teste, y_treino, y_teste = train_test_split(variaveis_x, variavel_y, test_size = 0.3, random_state = 2811)"
   ]
  },
  {
   "cell_type": "markdown",
   "id": "34719e90",
   "metadata": {},
   "source": [
    "### Importando biblioteca statsmodels e estimando modelo"
   ]
  },
  {
   "cell_type": "code",
   "execution_count": 160,
   "id": "2082e138",
   "metadata": {},
   "outputs": [],
   "source": [
    "import statsmodels.api as sm"
   ]
  },
  {
   "cell_type": "code",
   "execution_count": 161,
   "id": "84750d47",
   "metadata": {},
   "outputs": [
    {
     "name": "stderr",
     "output_type": "stream",
     "text": [
      "C:\\Users\\felip\\anaconda3\\envs\\felipe-pandas\\lib\\site-packages\\statsmodels\\tsa\\tsatools.py:142: FutureWarning: In a future version of pandas all arguments of concat except for the argument 'objs' will be keyword-only\n",
      "  x = pd.concat(x[::order], 1)\n"
     ]
    }
   ],
   "source": [
    "X_treino_com_const = sm.add_constant(X_treino)"
   ]
  },
  {
   "cell_type": "code",
   "execution_count": 162,
   "id": "b1a0e41b",
   "metadata": {},
   "outputs": [],
   "source": [
    "modelo_do_statsmodels = sm.OLS(y_treino, X_treino_com_const, hasconst = True).fit()"
   ]
  },
  {
   "cell_type": "markdown",
   "id": "576c0bce",
   "metadata": {},
   "source": [
    "### Avaliando modelo"
   ]
  },
  {
   "cell_type": "code",
   "execution_count": 163,
   "id": "008437a1",
   "metadata": {},
   "outputs": [
    {
     "data": {
      "text/html": [
       "<table class=\"simpletable\">\n",
       "<caption>OLS Regression Results</caption>\n",
       "<tr>\n",
       "  <th>Dep. Variable:</th>        <td>log_preco</td>    <th>  R-squared:         </th> <td>   0.836</td>\n",
       "</tr>\n",
       "<tr>\n",
       "  <th>Model:</th>                   <td>OLS</td>       <th>  Adj. R-squared:    </th> <td>   0.830</td>\n",
       "</tr>\n",
       "<tr>\n",
       "  <th>Method:</th>             <td>Least Squares</td>  <th>  F-statistic:       </th> <td>   140.0</td>\n",
       "</tr>\n",
       "<tr>\n",
       "  <th>Date:</th>             <td>Sun, 17 Oct 2021</td> <th>  Prob (F-statistic):</th> <td>4.89e-52</td>\n",
       "</tr>\n",
       "<tr>\n",
       "  <th>Time:</th>                 <td>16:40:54</td>     <th>  Log-Likelihood:    </th> <td>  34.178</td>\n",
       "</tr>\n",
       "<tr>\n",
       "  <th>No. Observations:</th>      <td>   143</td>      <th>  AIC:               </th> <td>  -56.36</td>\n",
       "</tr>\n",
       "<tr>\n",
       "  <th>Df Residuals:</th>          <td>   137</td>      <th>  BIC:               </th> <td>  -38.58</td>\n",
       "</tr>\n",
       "<tr>\n",
       "  <th>Df Model:</th>              <td>     5</td>      <th>                     </th>     <td> </td>   \n",
       "</tr>\n",
       "<tr>\n",
       "  <th>Covariance Type:</th>      <td>nonrobust</td>    <th>                     </th>     <td> </td>   \n",
       "</tr>\n",
       "</table>\n",
       "<table class=\"simpletable\">\n",
       "<tr>\n",
       "          <td></td>             <th>coef</th>     <th>std err</th>      <th>t</th>      <th>P>|t|</th>  <th>[0.025</th>    <th>0.975]</th>  \n",
       "</tr>\n",
       "<tr>\n",
       "  <th>const</th>             <td>   -4.2691</td> <td>    1.666</td> <td>   -2.562</td> <td> 0.011</td> <td>   -7.564</td> <td>   -0.974</td>\n",
       "</tr>\n",
       "<tr>\n",
       "  <th>log_comp_do_carro</th> <td>    0.3529</td> <td>    0.557</td> <td>    0.633</td> <td> 0.528</td> <td>   -0.749</td> <td>    1.455</td>\n",
       "</tr>\n",
       "<tr>\n",
       "  <th>log_alt_do_carro</th>  <td>   -0.0194</td> <td>    0.492</td> <td>   -0.039</td> <td> 0.969</td> <td>   -0.992</td> <td>    0.953</td>\n",
       "</tr>\n",
       "<tr>\n",
       "  <th>log_peso_meio_fio</th> <td>    1.0953</td> <td>    0.269</td> <td>    4.066</td> <td> 0.000</td> <td>    0.563</td> <td>    1.628</td>\n",
       "</tr>\n",
       "<tr>\n",
       "  <th>log_tam_do_motor</th>  <td>    0.2320</td> <td>    0.130</td> <td>    1.785</td> <td> 0.077</td> <td>   -0.025</td> <td>    0.489</td>\n",
       "</tr>\n",
       "<tr>\n",
       "  <th>log_cavalos</th>       <td>    0.4754</td> <td>    0.102</td> <td>    4.657</td> <td> 0.000</td> <td>    0.274</td> <td>    0.677</td>\n",
       "</tr>\n",
       "</table>\n",
       "<table class=\"simpletable\">\n",
       "<tr>\n",
       "  <th>Omnibus:</th>       <td> 6.020</td> <th>  Durbin-Watson:     </th> <td>   1.791</td>\n",
       "</tr>\n",
       "<tr>\n",
       "  <th>Prob(Omnibus):</th> <td> 0.049</td> <th>  Jarque-Bera (JB):  </th> <td>   5.659</td>\n",
       "</tr>\n",
       "<tr>\n",
       "  <th>Skew:</th>          <td> 0.475</td> <th>  Prob(JB):          </th> <td>  0.0590</td>\n",
       "</tr>\n",
       "<tr>\n",
       "  <th>Kurtosis:</th>      <td> 3.214</td> <th>  Cond. No.          </th> <td>1.28e+03</td>\n",
       "</tr>\n",
       "</table><br/><br/>Notes:<br/>[1] Standard Errors assume that the covariance matrix of the errors is correctly specified.<br/>[2] The condition number is large, 1.28e+03. This might indicate that there are<br/>strong multicollinearity or other numerical problems."
      ],
      "text/plain": [
       "<class 'statsmodels.iolib.summary.Summary'>\n",
       "\"\"\"\n",
       "                            OLS Regression Results                            \n",
       "==============================================================================\n",
       "Dep. Variable:              log_preco   R-squared:                       0.836\n",
       "Model:                            OLS   Adj. R-squared:                  0.830\n",
       "Method:                 Least Squares   F-statistic:                     140.0\n",
       "Date:                Sun, 17 Oct 2021   Prob (F-statistic):           4.89e-52\n",
       "Time:                        16:40:54   Log-Likelihood:                 34.178\n",
       "No. Observations:                 143   AIC:                            -56.36\n",
       "Df Residuals:                     137   BIC:                            -38.58\n",
       "Df Model:                           5                                         \n",
       "Covariance Type:            nonrobust                                         \n",
       "=====================================================================================\n",
       "                        coef    std err          t      P>|t|      [0.025      0.975]\n",
       "-------------------------------------------------------------------------------------\n",
       "const                -4.2691      1.666     -2.562      0.011      -7.564      -0.974\n",
       "log_comp_do_carro     0.3529      0.557      0.633      0.528      -0.749       1.455\n",
       "log_alt_do_carro     -0.0194      0.492     -0.039      0.969      -0.992       0.953\n",
       "log_peso_meio_fio     1.0953      0.269      4.066      0.000       0.563       1.628\n",
       "log_tam_do_motor      0.2320      0.130      1.785      0.077      -0.025       0.489\n",
       "log_cavalos           0.4754      0.102      4.657      0.000       0.274       0.677\n",
       "==============================================================================\n",
       "Omnibus:                        6.020   Durbin-Watson:                   1.791\n",
       "Prob(Omnibus):                  0.049   Jarque-Bera (JB):                5.659\n",
       "Skew:                           0.475   Prob(JB):                       0.0590\n",
       "Kurtosis:                       3.214   Cond. No.                     1.28e+03\n",
       "==============================================================================\n",
       "\n",
       "Notes:\n",
       "[1] Standard Errors assume that the covariance matrix of the errors is correctly specified.\n",
       "[2] The condition number is large, 1.28e+03. This might indicate that there are\n",
       "strong multicollinearity or other numerical problems.\n",
       "\"\"\""
      ]
     },
     "execution_count": 163,
     "metadata": {},
     "output_type": "execute_result"
    }
   ],
   "source": [
    "modelo_do_statsmodels.summary()"
   ]
  },
  {
   "cell_type": "markdown",
   "id": "c1f39253",
   "metadata": {},
   "source": [
    "Aqui é possível perceber que o P>|t| (teste de significância individual dos parametros) de algumas variáveis está acima de 0.05 e esse valor pode gerar alguns problemas no modelo. Então deve ser feita a retirada dessas variáveis."
   ]
  },
  {
   "cell_type": "markdown",
   "id": "ccea1ea0",
   "metadata": {},
   "source": [
    "## Modificando o modelo"
   ]
  },
  {
   "cell_type": "code",
   "execution_count": 164,
   "id": "0b5bf6aa",
   "metadata": {},
   "outputs": [],
   "source": [
    "variaveis_x = dados_carros[['log_peso_meio_fio', 'log_tam_do_motor', 'log_cavalos']]"
   ]
  },
  {
   "cell_type": "code",
   "execution_count": 165,
   "id": "f5797621",
   "metadata": {},
   "outputs": [],
   "source": [
    "X_treino, X_teste, y_treino, y_teste = train_test_split(variaveis_x, variavel_y, test_size = 0.3, random_state = 2811)"
   ]
  },
  {
   "cell_type": "code",
   "execution_count": 166,
   "id": "e3c9cad0",
   "metadata": {},
   "outputs": [
    {
     "name": "stderr",
     "output_type": "stream",
     "text": [
      "C:\\Users\\felip\\anaconda3\\envs\\felipe-pandas\\lib\\site-packages\\statsmodels\\tsa\\tsatools.py:142: FutureWarning: In a future version of pandas all arguments of concat except for the argument 'objs' will be keyword-only\n",
      "  x = pd.concat(x[::order], 1)\n"
     ]
    }
   ],
   "source": [
    "X_treino_com_const = sm.add_constant(X_treino)\n",
    "modelo_do_statsmodels = sm.OLS(y_treino, X_treino_com_const, hasconst = True).fit()"
   ]
  },
  {
   "cell_type": "code",
   "execution_count": 167,
   "id": "350f7210",
   "metadata": {},
   "outputs": [
    {
     "data": {
      "text/html": [
       "<table class=\"simpletable\">\n",
       "<caption>OLS Regression Results</caption>\n",
       "<tr>\n",
       "  <th>Dep. Variable:</th>        <td>log_preco</td>    <th>  R-squared:         </th> <td>   0.836</td>\n",
       "</tr>\n",
       "<tr>\n",
       "  <th>Model:</th>                   <td>OLS</td>       <th>  Adj. R-squared:    </th> <td>   0.832</td>\n",
       "</tr>\n",
       "<tr>\n",
       "  <th>Method:</th>             <td>Least Squares</td>  <th>  F-statistic:       </th> <td>   235.8</td>\n",
       "</tr>\n",
       "<tr>\n",
       "  <th>Date:</th>             <td>Sun, 17 Oct 2021</td> <th>  Prob (F-statistic):</th> <td>2.59e-54</td>\n",
       "</tr>\n",
       "<tr>\n",
       "  <th>Time:</th>                 <td>16:40:55</td>     <th>  Log-Likelihood:    </th> <td>  33.943</td>\n",
       "</tr>\n",
       "<tr>\n",
       "  <th>No. Observations:</th>      <td>   143</td>      <th>  AIC:               </th> <td>  -59.89</td>\n",
       "</tr>\n",
       "<tr>\n",
       "  <th>Df Residuals:</th>          <td>   139</td>      <th>  BIC:               </th> <td>  -48.03</td>\n",
       "</tr>\n",
       "<tr>\n",
       "  <th>Df Model:</th>              <td>     3</td>      <th>                     </th>     <td> </td>   \n",
       "</tr>\n",
       "<tr>\n",
       "  <th>Covariance Type:</th>      <td>nonrobust</td>    <th>                     </th>     <td> </td>   \n",
       "</tr>\n",
       "</table>\n",
       "<table class=\"simpletable\">\n",
       "<tr>\n",
       "          <td></td>             <th>coef</th>     <th>std err</th>      <th>t</th>      <th>P>|t|</th>  <th>[0.025</th>    <th>0.975]</th>  \n",
       "</tr>\n",
       "<tr>\n",
       "  <th>const</th>             <td>   -3.5061</td> <td>    0.889</td> <td>   -3.945</td> <td> 0.000</td> <td>   -5.263</td> <td>   -1.749</td>\n",
       "</tr>\n",
       "<tr>\n",
       "  <th>log_peso_meio_fio</th> <td>    1.2289</td> <td>    0.173</td> <td>    7.102</td> <td> 0.000</td> <td>    0.887</td> <td>    1.571</td>\n",
       "</tr>\n",
       "<tr>\n",
       "  <th>log_tam_do_motor</th>  <td>    0.2361</td> <td>    0.129</td> <td>    1.831</td> <td> 0.069</td> <td>   -0.019</td> <td>    0.491</td>\n",
       "</tr>\n",
       "<tr>\n",
       "  <th>log_cavalos</th>       <td>    0.4566</td> <td>    0.085</td> <td>    5.359</td> <td> 0.000</td> <td>    0.288</td> <td>    0.625</td>\n",
       "</tr>\n",
       "</table>\n",
       "<table class=\"simpletable\">\n",
       "<tr>\n",
       "  <th>Omnibus:</th>       <td> 5.439</td> <th>  Durbin-Watson:     </th> <td>   1.784</td>\n",
       "</tr>\n",
       "<tr>\n",
       "  <th>Prob(Omnibus):</th> <td> 0.066</td> <th>  Jarque-Bera (JB):  </th> <td>   5.119</td>\n",
       "</tr>\n",
       "<tr>\n",
       "  <th>Skew:</th>          <td> 0.458</td> <th>  Prob(JB):          </th> <td>  0.0773</td>\n",
       "</tr>\n",
       "<tr>\n",
       "  <th>Kurtosis:</th>      <td> 3.146</td> <th>  Cond. No.          </th> <td>    577.</td>\n",
       "</tr>\n",
       "</table><br/><br/>Notes:<br/>[1] Standard Errors assume that the covariance matrix of the errors is correctly specified."
      ],
      "text/plain": [
       "<class 'statsmodels.iolib.summary.Summary'>\n",
       "\"\"\"\n",
       "                            OLS Regression Results                            \n",
       "==============================================================================\n",
       "Dep. Variable:              log_preco   R-squared:                       0.836\n",
       "Model:                            OLS   Adj. R-squared:                  0.832\n",
       "Method:                 Least Squares   F-statistic:                     235.8\n",
       "Date:                Sun, 17 Oct 2021   Prob (F-statistic):           2.59e-54\n",
       "Time:                        16:40:55   Log-Likelihood:                 33.943\n",
       "No. Observations:                 143   AIC:                            -59.89\n",
       "Df Residuals:                     139   BIC:                            -48.03\n",
       "Df Model:                           3                                         \n",
       "Covariance Type:            nonrobust                                         \n",
       "=====================================================================================\n",
       "                        coef    std err          t      P>|t|      [0.025      0.975]\n",
       "-------------------------------------------------------------------------------------\n",
       "const                -3.5061      0.889     -3.945      0.000      -5.263      -1.749\n",
       "log_peso_meio_fio     1.2289      0.173      7.102      0.000       0.887       1.571\n",
       "log_tam_do_motor      0.2361      0.129      1.831      0.069      -0.019       0.491\n",
       "log_cavalos           0.4566      0.085      5.359      0.000       0.288       0.625\n",
       "==============================================================================\n",
       "Omnibus:                        5.439   Durbin-Watson:                   1.784\n",
       "Prob(Omnibus):                  0.066   Jarque-Bera (JB):                5.119\n",
       "Skew:                           0.458   Prob(JB):                       0.0773\n",
       "Kurtosis:                       3.146   Cond. No.                         577.\n",
       "==============================================================================\n",
       "\n",
       "Notes:\n",
       "[1] Standard Errors assume that the covariance matrix of the errors is correctly specified.\n",
       "\"\"\""
      ]
     },
     "execution_count": 167,
     "metadata": {},
     "output_type": "execute_result"
    }
   ],
   "source": [
    "modelo_do_statsmodels.summary()"
   ]
  },
  {
   "cell_type": "markdown",
   "id": "fd16ac42",
   "metadata": {},
   "source": [
    "## Estimando modelo com os novos dados de treino"
   ]
  },
  {
   "cell_type": "code",
   "execution_count": 168,
   "id": "b55f7ac0",
   "metadata": {},
   "outputs": [],
   "source": [
    "modelo = LinearRegression()"
   ]
  },
  {
   "cell_type": "code",
   "execution_count": 169,
   "id": "4a99860c",
   "metadata": {},
   "outputs": [
    {
     "data": {
      "text/plain": [
       "LinearRegression()"
      ]
     },
     "execution_count": 169,
     "metadata": {},
     "output_type": "execute_result"
    }
   ],
   "source": [
    "modelo.fit(X_treino, y_treino)"
   ]
  },
  {
   "cell_type": "markdown",
   "id": "76c95c00",
   "metadata": {},
   "source": [
    "### Obtendo o coeficiente de determinação (R²)"
   ]
  },
  {
   "cell_type": "code",
   "execution_count": 170,
   "id": "9a90d64b",
   "metadata": {},
   "outputs": [
    {
     "name": "stdout",
     "output_type": "stream",
     "text": [
      "R² = 0.8357604990585582\n"
     ]
    }
   ],
   "source": [
    "print(f'R² = {modelo.score(X_treino, y_treino)}')"
   ]
  },
  {
   "cell_type": "markdown",
   "id": "1ca2f601",
   "metadata": {},
   "source": [
    "O coeficiente de determinação mostra quanto a linha de regressão está ajustada aos dados e varia entre 1 e 0.\n",
    "> 0.8357 é um valor muito bom."
   ]
  },
  {
   "cell_type": "markdown",
   "id": "bd32e05f",
   "metadata": {},
   "source": [
    "### Obtendo o coeficiente de determinação (R²) das previsões"
   ]
  },
  {
   "cell_type": "code",
   "execution_count": 171,
   "id": "baf4cf0a",
   "metadata": {},
   "outputs": [],
   "source": [
    "previsao = modelo.predict(X_teste)"
   ]
  },
  {
   "cell_type": "markdown",
   "id": "0c67a708",
   "metadata": {},
   "source": [
    "#### Obtendo o coeficiente de determinação (R²) para as previsões"
   ]
  },
  {
   "cell_type": "code",
   "execution_count": 172,
   "id": "d4640312",
   "metadata": {},
   "outputs": [
    {
     "name": "stdout",
     "output_type": "stream",
     "text": [
      "R² = 0.8552535659154841\n"
     ]
    }
   ],
   "source": [
    "print(f'R² = {metrics.r2_score(y_teste, previsao)}')"
   ]
  },
  {
   "cell_type": "markdown",
   "id": "024ac8a9",
   "metadata": {},
   "source": [
    "### Gerando previsões pontuais\n",
    "\n",
    "Lembrando que os valores foram transformados com $log$, então será preciso aplicar $exp$ (exponencial)."
   ]
  },
  {
   "cell_type": "code",
   "execution_count": 173,
   "id": "e9bb49b4",
   "metadata": {},
   "outputs": [
    {
     "data": {
      "text/html": [
       "<div>\n",
       "<style scoped>\n",
       "    .dataframe tbody tr th:only-of-type {\n",
       "        vertical-align: middle;\n",
       "    }\n",
       "\n",
       "    .dataframe tbody tr th {\n",
       "        vertical-align: top;\n",
       "    }\n",
       "\n",
       "    .dataframe thead th {\n",
       "        text-align: right;\n",
       "    }\n",
       "</style>\n",
       "<table border=\"1\" class=\"dataframe\">\n",
       "  <thead>\n",
       "    <tr style=\"text-align: right;\">\n",
       "      <th></th>\n",
       "      <th>log_peso_meio_fio</th>\n",
       "      <th>log_tam_do_motor</th>\n",
       "      <th>log_cavalos</th>\n",
       "    </tr>\n",
       "  </thead>\n",
       "  <tbody>\n",
       "    <tr>\n",
       "      <th>169</th>\n",
       "      <td>7.844241</td>\n",
       "      <td>4.983607</td>\n",
       "      <td>4.75359</td>\n",
       "    </tr>\n",
       "  </tbody>\n",
       "</table>\n",
       "</div>"
      ],
      "text/plain": [
       "     log_peso_meio_fio  log_tam_do_motor  log_cavalos\n",
       "169           7.844241          4.983607      4.75359"
      ]
     },
     "execution_count": 173,
     "metadata": {},
     "output_type": "execute_result"
    }
   ],
   "source": [
    "entrada = X_teste[41:42]\n",
    "entrada"
   ]
  },
  {
   "cell_type": "code",
   "execution_count": 174,
   "id": "a0031920",
   "metadata": {},
   "outputs": [
    {
     "data": {
      "text/plain": [
       "9.481245280330358"
      ]
     },
     "execution_count": 174,
     "metadata": {},
     "output_type": "execute_result"
    }
   ],
   "source": [
    "modelo.predict(entrada)[0] #valor em log"
   ]
  },
  {
   "cell_type": "code",
   "execution_count": 175,
   "id": "9c3ef535",
   "metadata": {},
   "outputs": [
    {
     "data": {
      "text/plain": [
       "13111.503850083784"
      ]
     },
     "execution_count": 175,
     "metadata": {},
     "output_type": "execute_result"
    }
   ],
   "source": [
    "np.exp(modelo.predict(entrada)[0]) #valor em exp"
   ]
  },
  {
   "cell_type": "markdown",
   "id": "b6e5ae44",
   "metadata": {},
   "source": [
    "### Simulador simples"
   ]
  },
  {
   "cell_type": "code",
   "execution_count": 176,
   "id": "a0900092",
   "metadata": {},
   "outputs": [],
   "source": [
    "peso_meio_fio = 2000\n",
    "tam_do_motor = 100\n",
    "cavalos = 65\n",
    "entrada = [[np.log(peso_meio_fio), np.log(tam_do_motor), np.log(cavalos)]]"
   ]
  },
  {
   "cell_type": "code",
   "execution_count": 177,
   "id": "bb266d6c",
   "metadata": {},
   "outputs": [
    {
     "name": "stdout",
     "output_type": "stream",
     "text": [
      "R$6825.22\n"
     ]
    }
   ],
   "source": [
    "print(f'R${np.exp(modelo.predict(entrada)[0]):.2f}')"
   ]
  },
  {
   "cell_type": "markdown",
   "id": "75689188",
   "metadata": {},
   "source": [
    "### Obtendo métricas do modelo"
   ]
  },
  {
   "cell_type": "code",
   "execution_count": 178,
   "id": "db75e848",
   "metadata": {},
   "outputs": [],
   "source": [
    "erro_quadratico_medio = metrics.mean_squared_error(y_teste, previsao).round(2)"
   ]
  },
  {
   "cell_type": "code",
   "execution_count": 179,
   "id": "f71b7078",
   "metadata": {},
   "outputs": [],
   "source": [
    "raiz_do_erro = np.sqrt(erro_quadratico_medio).round(2)"
   ]
  },
  {
   "cell_type": "code",
   "execution_count": 180,
   "id": "f28aeee5",
   "metadata": {},
   "outputs": [],
   "source": [
    "coeficiente_de_determinacao = metrics.r2_score(y_teste, previsao).round(2)"
   ]
  },
  {
   "cell_type": "code",
   "execution_count": 181,
   "id": "405455d2",
   "metadata": {},
   "outputs": [
    {
     "data": {
      "text/html": [
       "<div>\n",
       "<style scoped>\n",
       "    .dataframe tbody tr th:only-of-type {\n",
       "        vertical-align: middle;\n",
       "    }\n",
       "\n",
       "    .dataframe tbody tr th {\n",
       "        vertical-align: top;\n",
       "    }\n",
       "\n",
       "    .dataframe thead th {\n",
       "        text-align: right;\n",
       "    }\n",
       "</style>\n",
       "<table border=\"1\" class=\"dataframe\">\n",
       "  <thead>\n",
       "    <tr style=\"text-align: right;\">\n",
       "      <th></th>\n",
       "      <th>Métricas</th>\n",
       "    </tr>\n",
       "  </thead>\n",
       "  <tbody>\n",
       "    <tr>\n",
       "      <th>Erro quad. médio</th>\n",
       "      <td>0.05</td>\n",
       "    </tr>\n",
       "    <tr>\n",
       "      <th>Raiz do erro</th>\n",
       "      <td>0.22</td>\n",
       "    </tr>\n",
       "    <tr>\n",
       "      <th>R²</th>\n",
       "      <td>0.86</td>\n",
       "    </tr>\n",
       "  </tbody>\n",
       "</table>\n",
       "</div>"
      ],
      "text/plain": [
       "                  Métricas\n",
       "Erro quad. médio      0.05\n",
       "Raiz do erro          0.22\n",
       "R²                    0.86"
      ]
     },
     "execution_count": 181,
     "metadata": {},
     "output_type": "execute_result"
    }
   ],
   "source": [
    "pd.DataFrame([erro_quadratico_medio,\n",
    "              raiz_do_erro,\n",
    "              coeficiente_de_determinacao], \n",
    "             ['Erro quad. médio', 'Raiz do erro', 'R²'],\n",
    "             columns = ['Métricas'])"
   ]
  },
  {
   "cell_type": "markdown",
   "id": "784dfaef",
   "metadata": {},
   "source": [
    "### Coeficientes estimados"
   ]
  },
  {
   "cell_type": "markdown",
   "id": "f6473bf7",
   "metadata": {},
   "source": [
    "#### Intercepto\n",
    "\n",
    "O intercepto é o **efeito médio** nos **preços dos carros** com todas as variáveis explicativas excluídas do modelo."
   ]
  },
  {
   "cell_type": "code",
   "execution_count": 182,
   "id": "181b983d",
   "metadata": {},
   "outputs": [
    {
     "data": {
      "text/plain": [
       "-3.5060627301475638"
      ]
     },
     "execution_count": 182,
     "metadata": {},
     "output_type": "execute_result"
    }
   ],
   "source": [
    "modelo.intercept_"
   ]
  },
  {
   "cell_type": "code",
   "execution_count": 183,
   "id": "93c8eaf9",
   "metadata": {},
   "outputs": [
    {
     "data": {
      "text/plain": [
       "0.030014858693637594"
      ]
     },
     "execution_count": 183,
     "metadata": {},
     "output_type": "execute_result"
    }
   ],
   "source": [
    "np.exp(modelo.intercept_)"
   ]
  },
  {
   "cell_type": "markdown",
   "id": "dd0bd6a5",
   "metadata": {},
   "source": [
    "#### Coeficientes de regressão"
   ]
  },
  {
   "cell_type": "code",
   "execution_count": 184,
   "id": "bfb6c2b5",
   "metadata": {},
   "outputs": [
    {
     "data": {
      "text/plain": [
       "Index(['log_peso_meio_fio', 'log_tam_do_motor', 'log_cavalos'], dtype='object')"
      ]
     },
     "execution_count": 184,
     "metadata": {},
     "output_type": "execute_result"
    }
   ],
   "source": [
    "variaveis_x.columns"
   ]
  },
  {
   "cell_type": "code",
   "execution_count": 185,
   "id": "46303318",
   "metadata": {},
   "outputs": [
    {
     "data": {
      "text/plain": [
       "array([1.22894723, 0.23610517, 0.45660117])"
      ]
     },
     "execution_count": 185,
     "metadata": {},
     "output_type": "execute_result"
    }
   ],
   "source": [
    "modelo.coef_"
   ]
  },
  {
   "cell_type": "markdown",
   "id": "0fd8241e",
   "metadata": {},
   "source": [
    "#### Criando um DataFrame para armazenar os dados"
   ]
  },
  {
   "cell_type": "code",
   "execution_count": 186,
   "id": "88ad5096",
   "metadata": {},
   "outputs": [],
   "source": [
    "index = ['Intercepto', 'Log Peso meio fio', 'Log Tamanho do motor', 'Log Cavalos']"
   ]
  },
  {
   "cell_type": "code",
   "execution_count": 187,
   "id": "35622a2e",
   "metadata": {},
   "outputs": [
    {
     "data": {
      "text/html": [
       "<div>\n",
       "<style scoped>\n",
       "    .dataframe tbody tr th:only-of-type {\n",
       "        vertical-align: middle;\n",
       "    }\n",
       "\n",
       "    .dataframe tbody tr th {\n",
       "        vertical-align: top;\n",
       "    }\n",
       "\n",
       "    .dataframe thead th {\n",
       "        text-align: right;\n",
       "    }\n",
       "</style>\n",
       "<table border=\"1\" class=\"dataframe\">\n",
       "  <thead>\n",
       "    <tr style=\"text-align: right;\">\n",
       "      <th></th>\n",
       "      <th>Parâmetros</th>\n",
       "    </tr>\n",
       "  </thead>\n",
       "  <tbody>\n",
       "    <tr>\n",
       "      <th>Intercepto</th>\n",
       "      <td>-3.506063</td>\n",
       "    </tr>\n",
       "    <tr>\n",
       "      <th>Log Peso meio fio</th>\n",
       "      <td>1.228947</td>\n",
       "    </tr>\n",
       "    <tr>\n",
       "      <th>Log Tamanho do motor</th>\n",
       "      <td>0.236105</td>\n",
       "    </tr>\n",
       "    <tr>\n",
       "      <th>Log Cavalos</th>\n",
       "      <td>0.456601</td>\n",
       "    </tr>\n",
       "  </tbody>\n",
       "</table>\n",
       "</div>"
      ],
      "text/plain": [
       "                      Parâmetros\n",
       "Intercepto             -3.506063\n",
       "Log Peso meio fio       1.228947\n",
       "Log Tamanho do motor    0.236105\n",
       "Log Cavalos             0.456601"
      ]
     },
     "execution_count": 187,
     "metadata": {},
     "output_type": "execute_result"
    }
   ],
   "source": [
    "pd.DataFrame(data = np.append(modelo.intercept_, modelo.coef_), index = index, columns = ['Parâmetros'])"
   ]
  },
  {
   "cell_type": "markdown",
   "id": "3ee80942",
   "metadata": {},
   "source": [
    "### Interpretação dos coeficientes\n",
    "\n",
    "**Intercepto**: se retirarmos o efeito das variáveis explicativas, o efeito médio no preço dos carros seria de R$0,03.  \n",
    "\n",
    "**Peso meio fio**: mantendo o tamanho do motor e cavalos constantes, um acréssimo de 1% no peso meio fio de um carro gera, em média, um acrécimo de 1,22% no preço do carro.\n",
    "\n",
    "**Tamanho do motor**: mantendo o peso meio fio e cavalos constantes, um acréssimo de 1% no tamanho do motor de um carro gera, em média, um acrécimo de 0,23% no preço do carro.\n",
    "\n",
    "**Cavalos**: mantendo o tamanho do motor e peso meio fio constantes, um acréssimo de 1% no número de cavalos de um carro gera, em média, um acrécimo de 0,45% no preço do carro."
   ]
  },
  {
   "cell_type": "markdown",
   "id": "218e373a",
   "metadata": {},
   "source": [
    "## Análises Gráficas dos resultados"
   ]
  },
  {
   "cell_type": "code",
   "execution_count": 188,
   "id": "5dcefa7f",
   "metadata": {},
   "outputs": [],
   "source": [
    "y_previsto_treino = modelo.predict(X_treino)"
   ]
  },
  {
   "cell_type": "markdown",
   "id": "0f43d245",
   "metadata": {},
   "source": [
    "### Gráfico de dispersão - Valor estimado X valor real"
   ]
  },
  {
   "cell_type": "code",
   "execution_count": 189,
   "id": "93df319b",
   "metadata": {},
   "outputs": [
    {
     "data": {
      "text/plain": [
       "<AxesSubplot:title={'center':'Valor estimado X valor real'}, xlabel='log Preço - Previsão', ylabel='log Preço - Real'>"
      ]
     },
     "execution_count": 189,
     "metadata": {},
     "output_type": "execute_result"
    },
    {
     "data": {
      "image/png": "[encoded data removed]",
      "text/plain": [
       "<Figure size 1152x576 with 1 Axes>"
      ]
     },
     "metadata": {},
     "output_type": "display_data"
    }
   ],
   "source": [
    "grafico = sns.scatterplot(x = y_previsto_treino, y = y_treino)\n",
    "grafico.figure.set_size_inches(16, 8)\n",
    "grafico.set_title('Valor estimado X valor real', fontsize = 18)\n",
    "grafico.set_xlabel('log Preço - Previsão', fontsize = 16)\n",
    "grafico.set_ylabel('log Preço - Real', fontsize = 16)\n",
    "grafico"
   ]
  },
  {
   "cell_type": "markdown",
   "id": "74696514",
   "metadata": {},
   "source": [
    "### Obtedo resíduos"
   ]
  },
  {
   "cell_type": "code",
   "execution_count": 190,
   "id": "2a12afa3",
   "metadata": {},
   "outputs": [],
   "source": [
    "residuo = y_treino - y_previsto_treino"
   ]
  },
  {
   "cell_type": "code",
   "execution_count": 191,
   "id": "30703999",
   "metadata": {},
   "outputs": [
    {
     "name": "stderr",
     "output_type": "stream",
     "text": [
      "C:\\Users\\felip\\anaconda3\\envs\\felipe-pandas\\lib\\site-packages\\seaborn\\distributions.py:2557: FutureWarning: `distplot` is a deprecated function and will be removed in a future version. Please adapt your code to use either `displot` (a figure-level function with similar flexibility) or `histplot` (an axes-level function for histograms).\n",
      "  warnings.warn(msg, FutureWarning)\n"
     ]
    },
    {
     "data": {
      "text/plain": [
       "<AxesSubplot:title={'center':'Distribuição de Frequências dos Resíduos'}, xlabel='log Preço', ylabel='Density'>"
      ]
     },
     "execution_count": 191,
     "metadata": {},
     "output_type": "execute_result"
    },
    {
     "data": {
      "image/png": "[encoded data removed]",
      "text/plain": [
       "<Figure size 1152x576 with 1 Axes>"
      ]
     },
     "metadata": {},
     "output_type": "display_data"
    }
   ],
   "source": [
    "grafico = sns.distplot(residuo)\n",
    "grafico.figure.set_size_inches(16, 8)\n",
    "grafico.set_title('Distribuição de Frequências dos Resíduos', fontsize = 18)\n",
    "grafico.set_xlabel('log Preço', fontsize = 16)\n",
    "grafico"
   ]
  },
  {
   "cell_type": "markdown",
   "id": "48ee82b9",
   "metadata": {},
   "source": [
    "## Salvando e carregando o modelo estimado"
   ]
  },
  {
   "cell_type": "code",
   "execution_count": 192,
   "id": "4431d13a",
   "metadata": {},
   "outputs": [],
   "source": [
    "import pickle"
   ]
  },
  {
   "cell_type": "code",
   "execution_count": 193,
   "id": "5746ac45",
   "metadata": {},
   "outputs": [],
   "source": [
    "modelo_salvo = open('modelo_preco', 'wb')\n",
    "pickle.dump(modelo, modelo_salvo)\n",
    "modelo_salvo.close()"
   ]
  }
 ],
 "metadata": {
  "kernelspec": {
   "display_name": "Python 3",
   "language": "python",
   "name": "python3"
  },
  "language_info": {
   "codemirror_mode": {
    "name": "ipython",
    "version": 3
   },
   "file_extension": ".py",
   "mimetype": "text/x-python",
   "name": "python",
   "nbconvert_exporter": "python",
   "pygments_lexer": "ipython3",
   "version": "3.8.10"
  }
 },
 "nbformat": 4,
 "nbformat_minor": 5
}
